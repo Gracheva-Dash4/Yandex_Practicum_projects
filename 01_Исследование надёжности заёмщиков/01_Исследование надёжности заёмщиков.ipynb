{
 "cells": [
  {
   "cell_type": "markdown",
   "metadata": {},
   "source": [
    "# \"Исследование надёжности заёмщиков\" <a class=\"tocSkip\">\n",
    "## Цель исследования"
   ]
  },
  {
   "cell_type": "markdown",
   "metadata": {},
   "source": [
    "<div style=\"border: ridge black 3px; padding: 25px\">\n",
    "В ходе данного исследования мы определим влияет ли семейное положение и количество детей клиента на факт погашения кредита в срок. Данное исследование необходимо для последующей передачи полученных результатов в кредитный отдел банка, который сможет использовать эти данные при построении модели <b>кредитного скоринга</b>.\n",
    "\n",
    "Для этого мы произведем предобработку данных, определим ключевые (из предоставленых нам) данные для решения поставленной задачи. В конце ответим на вопросы о зависимости количества детей, разных статусов семейного положения, уровней дохода и целей кредита на факт погашения кредита в срок, сформулируем общий вывод и дадим рекомендации.\n",
    "</div>"
   ]
  },
  {
   "cell_type": "markdown",
   "metadata": {},
   "source": [
    "## Открытие данных\n",
    "**Откроем файл с данными и ознакомимся с общей информацией, а так же визуально посмотрим на внутреннее заполнение таблицы.**"
   ]
  },
  {
   "cell_type": "code",
   "execution_count": 1,
   "metadata": {},
   "outputs": [
    {
     "name": "stdout",
     "output_type": "stream",
     "text": [
      "<class 'pandas.core.frame.DataFrame'>\n",
      "RangeIndex: 21525 entries, 0 to 21524\n",
      "Data columns (total 12 columns):\n",
      "children            21525 non-null int64\n",
      "days_employed       19351 non-null float64\n",
      "dob_years           21525 non-null int64\n",
      "education           21525 non-null object\n",
      "education_id        21525 non-null int64\n",
      "family_status       21525 non-null object\n",
      "family_status_id    21525 non-null int64\n",
      "gender              21525 non-null object\n",
      "income_type         21525 non-null object\n",
      "debt                21525 non-null int64\n",
      "total_income        19351 non-null float64\n",
      "purpose             21525 non-null object\n",
      "dtypes: float64(2), int64(5), object(5)\n",
      "memory usage: 2.0+ MB\n"
     ]
    }
   ],
   "source": [
    "import pandas as pd\n",
    "data = pd.read_csv('/datasets/data.csv')\n",
    "data.info()"
   ]
  },
  {
   "cell_type": "markdown",
   "metadata": {},
   "source": [
    "1. Для анализа имеем таблицу в 21 525 строк, 12 столбцов.\n",
    "2. Визуально заметно, что в 2-х столбцах в одинаковом количестве не достает наблюдений о: трудовом стаже (days_employed) и ежемесячном доходе (total_income), что вполне может говорить о том, что пропуски не случайны. \n",
    "3. Типы данных по логике соответствуют содержанию столбцов. Но для дальнейших корректных манипуляций нам необходимо будет столбцы 'days_employed' и 'total_income' с дробным типом данных (float64) перевести в целочисленный тип (int64). \n"
   ]
  },
  {
   "cell_type": "code",
   "execution_count": 2,
   "metadata": {},
   "outputs": [
    {
     "data": {
      "text/html": [
       "<div>\n",
       "<style scoped>\n",
       "    .dataframe tbody tr th:only-of-type {\n",
       "        vertical-align: middle;\n",
       "    }\n",
       "\n",
       "    .dataframe tbody tr th {\n",
       "        vertical-align: top;\n",
       "    }\n",
       "\n",
       "    .dataframe thead th {\n",
       "        text-align: right;\n",
       "    }\n",
       "</style>\n",
       "<table border=\"1\" class=\"dataframe\">\n",
       "  <thead>\n",
       "    <tr style=\"text-align: right;\">\n",
       "      <th></th>\n",
       "      <th>children</th>\n",
       "      <th>days_employed</th>\n",
       "      <th>dob_years</th>\n",
       "      <th>education</th>\n",
       "      <th>education_id</th>\n",
       "      <th>family_status</th>\n",
       "      <th>family_status_id</th>\n",
       "      <th>gender</th>\n",
       "      <th>income_type</th>\n",
       "      <th>debt</th>\n",
       "      <th>total_income</th>\n",
       "      <th>purpose</th>\n",
       "    </tr>\n",
       "  </thead>\n",
       "  <tbody>\n",
       "    <tr>\n",
       "      <td>0</td>\n",
       "      <td>1</td>\n",
       "      <td>-8437.673028</td>\n",
       "      <td>42</td>\n",
       "      <td>высшее</td>\n",
       "      <td>0</td>\n",
       "      <td>женат / замужем</td>\n",
       "      <td>0</td>\n",
       "      <td>F</td>\n",
       "      <td>сотрудник</td>\n",
       "      <td>0</td>\n",
       "      <td>253875.639453</td>\n",
       "      <td>покупка жилья</td>\n",
       "    </tr>\n",
       "    <tr>\n",
       "      <td>1</td>\n",
       "      <td>1</td>\n",
       "      <td>-4024.803754</td>\n",
       "      <td>36</td>\n",
       "      <td>среднее</td>\n",
       "      <td>1</td>\n",
       "      <td>женат / замужем</td>\n",
       "      <td>0</td>\n",
       "      <td>F</td>\n",
       "      <td>сотрудник</td>\n",
       "      <td>0</td>\n",
       "      <td>112080.014102</td>\n",
       "      <td>приобретение автомобиля</td>\n",
       "    </tr>\n",
       "    <tr>\n",
       "      <td>2</td>\n",
       "      <td>0</td>\n",
       "      <td>-5623.422610</td>\n",
       "      <td>33</td>\n",
       "      <td>Среднее</td>\n",
       "      <td>1</td>\n",
       "      <td>женат / замужем</td>\n",
       "      <td>0</td>\n",
       "      <td>M</td>\n",
       "      <td>сотрудник</td>\n",
       "      <td>0</td>\n",
       "      <td>145885.952297</td>\n",
       "      <td>покупка жилья</td>\n",
       "    </tr>\n",
       "    <tr>\n",
       "      <td>3</td>\n",
       "      <td>3</td>\n",
       "      <td>-4124.747207</td>\n",
       "      <td>32</td>\n",
       "      <td>среднее</td>\n",
       "      <td>1</td>\n",
       "      <td>женат / замужем</td>\n",
       "      <td>0</td>\n",
       "      <td>M</td>\n",
       "      <td>сотрудник</td>\n",
       "      <td>0</td>\n",
       "      <td>267628.550329</td>\n",
       "      <td>дополнительное образование</td>\n",
       "    </tr>\n",
       "    <tr>\n",
       "      <td>4</td>\n",
       "      <td>0</td>\n",
       "      <td>340266.072047</td>\n",
       "      <td>53</td>\n",
       "      <td>среднее</td>\n",
       "      <td>1</td>\n",
       "      <td>гражданский брак</td>\n",
       "      <td>1</td>\n",
       "      <td>F</td>\n",
       "      <td>пенсионер</td>\n",
       "      <td>0</td>\n",
       "      <td>158616.077870</td>\n",
       "      <td>сыграть свадьбу</td>\n",
       "    </tr>\n",
       "    <tr>\n",
       "      <td>5</td>\n",
       "      <td>0</td>\n",
       "      <td>-926.185831</td>\n",
       "      <td>27</td>\n",
       "      <td>высшее</td>\n",
       "      <td>0</td>\n",
       "      <td>гражданский брак</td>\n",
       "      <td>1</td>\n",
       "      <td>M</td>\n",
       "      <td>компаньон</td>\n",
       "      <td>0</td>\n",
       "      <td>255763.565419</td>\n",
       "      <td>покупка жилья</td>\n",
       "    </tr>\n",
       "    <tr>\n",
       "      <td>6</td>\n",
       "      <td>0</td>\n",
       "      <td>-2879.202052</td>\n",
       "      <td>43</td>\n",
       "      <td>высшее</td>\n",
       "      <td>0</td>\n",
       "      <td>женат / замужем</td>\n",
       "      <td>0</td>\n",
       "      <td>F</td>\n",
       "      <td>компаньон</td>\n",
       "      <td>0</td>\n",
       "      <td>240525.971920</td>\n",
       "      <td>операции с жильем</td>\n",
       "    </tr>\n",
       "    <tr>\n",
       "      <td>7</td>\n",
       "      <td>0</td>\n",
       "      <td>-152.779569</td>\n",
       "      <td>50</td>\n",
       "      <td>СРЕДНЕЕ</td>\n",
       "      <td>1</td>\n",
       "      <td>женат / замужем</td>\n",
       "      <td>0</td>\n",
       "      <td>M</td>\n",
       "      <td>сотрудник</td>\n",
       "      <td>0</td>\n",
       "      <td>135823.934197</td>\n",
       "      <td>образование</td>\n",
       "    </tr>\n",
       "    <tr>\n",
       "      <td>8</td>\n",
       "      <td>2</td>\n",
       "      <td>-6929.865299</td>\n",
       "      <td>35</td>\n",
       "      <td>ВЫСШЕЕ</td>\n",
       "      <td>0</td>\n",
       "      <td>гражданский брак</td>\n",
       "      <td>1</td>\n",
       "      <td>F</td>\n",
       "      <td>сотрудник</td>\n",
       "      <td>0</td>\n",
       "      <td>95856.832424</td>\n",
       "      <td>на проведение свадьбы</td>\n",
       "    </tr>\n",
       "    <tr>\n",
       "      <td>9</td>\n",
       "      <td>0</td>\n",
       "      <td>-2188.756445</td>\n",
       "      <td>41</td>\n",
       "      <td>среднее</td>\n",
       "      <td>1</td>\n",
       "      <td>женат / замужем</td>\n",
       "      <td>0</td>\n",
       "      <td>M</td>\n",
       "      <td>сотрудник</td>\n",
       "      <td>0</td>\n",
       "      <td>144425.938277</td>\n",
       "      <td>покупка жилья для семьи</td>\n",
       "    </tr>\n",
       "    <tr>\n",
       "      <td>10</td>\n",
       "      <td>2</td>\n",
       "      <td>-4171.483647</td>\n",
       "      <td>36</td>\n",
       "      <td>высшее</td>\n",
       "      <td>0</td>\n",
       "      <td>женат / замужем</td>\n",
       "      <td>0</td>\n",
       "      <td>M</td>\n",
       "      <td>компаньон</td>\n",
       "      <td>0</td>\n",
       "      <td>113943.491460</td>\n",
       "      <td>покупка недвижимости</td>\n",
       "    </tr>\n",
       "    <tr>\n",
       "      <td>11</td>\n",
       "      <td>0</td>\n",
       "      <td>-792.701887</td>\n",
       "      <td>40</td>\n",
       "      <td>среднее</td>\n",
       "      <td>1</td>\n",
       "      <td>женат / замужем</td>\n",
       "      <td>0</td>\n",
       "      <td>F</td>\n",
       "      <td>сотрудник</td>\n",
       "      <td>0</td>\n",
       "      <td>77069.234271</td>\n",
       "      <td>покупка коммерческой недвижимости</td>\n",
       "    </tr>\n",
       "    <tr>\n",
       "      <td>12</td>\n",
       "      <td>0</td>\n",
       "      <td>NaN</td>\n",
       "      <td>65</td>\n",
       "      <td>среднее</td>\n",
       "      <td>1</td>\n",
       "      <td>гражданский брак</td>\n",
       "      <td>1</td>\n",
       "      <td>M</td>\n",
       "      <td>пенсионер</td>\n",
       "      <td>0</td>\n",
       "      <td>NaN</td>\n",
       "      <td>сыграть свадьбу</td>\n",
       "    </tr>\n",
       "    <tr>\n",
       "      <td>13</td>\n",
       "      <td>0</td>\n",
       "      <td>-1846.641941</td>\n",
       "      <td>54</td>\n",
       "      <td>неоконченное высшее</td>\n",
       "      <td>2</td>\n",
       "      <td>женат / замужем</td>\n",
       "      <td>0</td>\n",
       "      <td>F</td>\n",
       "      <td>сотрудник</td>\n",
       "      <td>0</td>\n",
       "      <td>130458.228857</td>\n",
       "      <td>приобретение автомобиля</td>\n",
       "    </tr>\n",
       "    <tr>\n",
       "      <td>14</td>\n",
       "      <td>0</td>\n",
       "      <td>-1844.956182</td>\n",
       "      <td>56</td>\n",
       "      <td>высшее</td>\n",
       "      <td>0</td>\n",
       "      <td>гражданский брак</td>\n",
       "      <td>1</td>\n",
       "      <td>F</td>\n",
       "      <td>компаньон</td>\n",
       "      <td>1</td>\n",
       "      <td>165127.911772</td>\n",
       "      <td>покупка жилой недвижимости</td>\n",
       "    </tr>\n",
       "    <tr>\n",
       "      <td>15</td>\n",
       "      <td>1</td>\n",
       "      <td>-972.364419</td>\n",
       "      <td>26</td>\n",
       "      <td>среднее</td>\n",
       "      <td>1</td>\n",
       "      <td>женат / замужем</td>\n",
       "      <td>0</td>\n",
       "      <td>F</td>\n",
       "      <td>сотрудник</td>\n",
       "      <td>0</td>\n",
       "      <td>116820.904450</td>\n",
       "      <td>строительство собственной недвижимости</td>\n",
       "    </tr>\n",
       "    <tr>\n",
       "      <td>16</td>\n",
       "      <td>0</td>\n",
       "      <td>-1719.934226</td>\n",
       "      <td>35</td>\n",
       "      <td>среднее</td>\n",
       "      <td>1</td>\n",
       "      <td>женат / замужем</td>\n",
       "      <td>0</td>\n",
       "      <td>F</td>\n",
       "      <td>сотрудник</td>\n",
       "      <td>0</td>\n",
       "      <td>289202.704229</td>\n",
       "      <td>недвижимость</td>\n",
       "    </tr>\n",
       "    <tr>\n",
       "      <td>17</td>\n",
       "      <td>0</td>\n",
       "      <td>-2369.999720</td>\n",
       "      <td>33</td>\n",
       "      <td>высшее</td>\n",
       "      <td>0</td>\n",
       "      <td>гражданский брак</td>\n",
       "      <td>1</td>\n",
       "      <td>M</td>\n",
       "      <td>сотрудник</td>\n",
       "      <td>0</td>\n",
       "      <td>90410.586745</td>\n",
       "      <td>строительство недвижимости</td>\n",
       "    </tr>\n",
       "    <tr>\n",
       "      <td>18</td>\n",
       "      <td>0</td>\n",
       "      <td>400281.136913</td>\n",
       "      <td>53</td>\n",
       "      <td>среднее</td>\n",
       "      <td>1</td>\n",
       "      <td>вдовец / вдова</td>\n",
       "      <td>2</td>\n",
       "      <td>F</td>\n",
       "      <td>пенсионер</td>\n",
       "      <td>0</td>\n",
       "      <td>56823.777243</td>\n",
       "      <td>на покупку подержанного автомобиля</td>\n",
       "    </tr>\n",
       "    <tr>\n",
       "      <td>19</td>\n",
       "      <td>0</td>\n",
       "      <td>-10038.818549</td>\n",
       "      <td>48</td>\n",
       "      <td>СРЕДНЕЕ</td>\n",
       "      <td>1</td>\n",
       "      <td>в разводе</td>\n",
       "      <td>3</td>\n",
       "      <td>F</td>\n",
       "      <td>сотрудник</td>\n",
       "      <td>0</td>\n",
       "      <td>242831.107982</td>\n",
       "      <td>на покупку своего автомобиля</td>\n",
       "    </tr>\n",
       "  </tbody>\n",
       "</table>\n",
       "</div>"
      ],
      "text/plain": [
       "    children  days_employed  dob_years            education  education_id  \\\n",
       "0          1   -8437.673028         42               высшее             0   \n",
       "1          1   -4024.803754         36              среднее             1   \n",
       "2          0   -5623.422610         33              Среднее             1   \n",
       "3          3   -4124.747207         32              среднее             1   \n",
       "4          0  340266.072047         53              среднее             1   \n",
       "5          0    -926.185831         27               высшее             0   \n",
       "6          0   -2879.202052         43               высшее             0   \n",
       "7          0    -152.779569         50              СРЕДНЕЕ             1   \n",
       "8          2   -6929.865299         35               ВЫСШЕЕ             0   \n",
       "9          0   -2188.756445         41              среднее             1   \n",
       "10         2   -4171.483647         36               высшее             0   \n",
       "11         0    -792.701887         40              среднее             1   \n",
       "12         0            NaN         65              среднее             1   \n",
       "13         0   -1846.641941         54  неоконченное высшее             2   \n",
       "14         0   -1844.956182         56               высшее             0   \n",
       "15         1    -972.364419         26              среднее             1   \n",
       "16         0   -1719.934226         35              среднее             1   \n",
       "17         0   -2369.999720         33               высшее             0   \n",
       "18         0  400281.136913         53              среднее             1   \n",
       "19         0  -10038.818549         48              СРЕДНЕЕ             1   \n",
       "\n",
       "       family_status  family_status_id gender income_type  debt  \\\n",
       "0    женат / замужем                 0      F   сотрудник     0   \n",
       "1    женат / замужем                 0      F   сотрудник     0   \n",
       "2    женат / замужем                 0      M   сотрудник     0   \n",
       "3    женат / замужем                 0      M   сотрудник     0   \n",
       "4   гражданский брак                 1      F   пенсионер     0   \n",
       "5   гражданский брак                 1      M   компаньон     0   \n",
       "6    женат / замужем                 0      F   компаньон     0   \n",
       "7    женат / замужем                 0      M   сотрудник     0   \n",
       "8   гражданский брак                 1      F   сотрудник     0   \n",
       "9    женат / замужем                 0      M   сотрудник     0   \n",
       "10   женат / замужем                 0      M   компаньон     0   \n",
       "11   женат / замужем                 0      F   сотрудник     0   \n",
       "12  гражданский брак                 1      M   пенсионер     0   \n",
       "13   женат / замужем                 0      F   сотрудник     0   \n",
       "14  гражданский брак                 1      F   компаньон     1   \n",
       "15   женат / замужем                 0      F   сотрудник     0   \n",
       "16   женат / замужем                 0      F   сотрудник     0   \n",
       "17  гражданский брак                 1      M   сотрудник     0   \n",
       "18    вдовец / вдова                 2      F   пенсионер     0   \n",
       "19         в разводе                 3      F   сотрудник     0   \n",
       "\n",
       "     total_income                                 purpose  \n",
       "0   253875.639453                           покупка жилья  \n",
       "1   112080.014102                 приобретение автомобиля  \n",
       "2   145885.952297                           покупка жилья  \n",
       "3   267628.550329              дополнительное образование  \n",
       "4   158616.077870                         сыграть свадьбу  \n",
       "5   255763.565419                           покупка жилья  \n",
       "6   240525.971920                       операции с жильем  \n",
       "7   135823.934197                             образование  \n",
       "8    95856.832424                   на проведение свадьбы  \n",
       "9   144425.938277                 покупка жилья для семьи  \n",
       "10  113943.491460                    покупка недвижимости  \n",
       "11   77069.234271       покупка коммерческой недвижимости  \n",
       "12            NaN                         сыграть свадьбу  \n",
       "13  130458.228857                 приобретение автомобиля  \n",
       "14  165127.911772              покупка жилой недвижимости  \n",
       "15  116820.904450  строительство собственной недвижимости  \n",
       "16  289202.704229                            недвижимость  \n",
       "17   90410.586745              строительство недвижимости  \n",
       "18   56823.777243      на покупку подержанного автомобиля  \n",
       "19  242831.107982            на покупку своего автомобиля  "
      ]
     },
     "execution_count": 2,
     "metadata": {},
     "output_type": "execute_result"
    }
   ],
   "source": [
    "# посмотрим на содержание первых 20 строк таблицы:\n",
    "data.head(20)"
   ]
  },
  {
   "cell_type": "markdown",
   "metadata": {},
   "source": [
    "Визуально мы видим, что есть проблема с выгрузкой и отображением данных:\n",
    "    \n",
    "1. Данные о стаже `days_employed` выгружены со знаком \"минус\", а так же в некоторых строках указывается подозрительно огромное значение в днях. Нужно будет далее проверить. \n",
    "2. В колонках `days_employed` и `total_income` много знаков после запятой, переведем далее эти показатели в целочисленный тип.\n",
    "3. Регистр букв нарушен в колонке `education`. Далее приведем его в порядок."
   ]
  },
  {
   "cell_type": "markdown",
   "metadata": {},
   "source": [
    "С первого взгляда мы уже заметили, что в двух столбцах таблицы есть пропуски. Выведем еще раз на экран их количество."
   ]
  },
  {
   "cell_type": "code",
   "execution_count": 3,
   "metadata": {
    "scrolled": true
   },
   "outputs": [
    {
     "data": {
      "text/plain": [
       "children               0\n",
       "days_employed       2174\n",
       "dob_years              0\n",
       "education              0\n",
       "education_id           0\n",
       "family_status          0\n",
       "family_status_id       0\n",
       "gender                 0\n",
       "income_type            0\n",
       "debt                   0\n",
       "total_income        2174\n",
       "purpose                0\n",
       "dtype: int64"
      ]
     },
     "execution_count": 3,
     "metadata": {},
     "output_type": "execute_result"
    }
   ],
   "source": [
    "data.isnull().sum()"
   ]
  },
  {
   "cell_type": "markdown",
   "metadata": {},
   "source": [
    "Отсутствуют в равном количестве (2174 строки) данные о: количестве дней трудового стажа и ежемесячном доходе.\n",
    "Проверим в одинаковых ли строках отсутствуют эти значения. Зададим условие сразу для двух столбцов и выведем сумму таких значений."
   ]
  },
  {
   "cell_type": "code",
   "execution_count": 4,
   "metadata": {},
   "outputs": [
    {
     "data": {
      "text/plain": [
       "children               0\n",
       "days_employed       2174\n",
       "dob_years              0\n",
       "education              0\n",
       "education_id           0\n",
       "family_status          0\n",
       "family_status_id       0\n",
       "gender                 0\n",
       "income_type            0\n",
       "debt                   0\n",
       "total_income        2174\n",
       "purpose                0\n",
       "dtype: int64"
      ]
     },
     "execution_count": 4,
     "metadata": {},
     "output_type": "execute_result"
    }
   ],
   "source": [
    "data[(data['days_employed'].isnull() == True) & (data['total_income'].isnull() == True)].isnull().sum()"
   ]
  },
  {
   "cell_type": "markdown",
   "metadata": {},
   "source": [
    "Действительно. \n",
    "Одновременно в 2174 строке нет данных о количестве дней трудового стажа и ежемесячном доходе.\n",
    "Поэтому можно сказать, что это не случайность и есть причины, по которым эти данные отсутствуют (например: эти люди пенсионеры или по каким-то причинам сотрудник(и) банка не запрашивал(и) эту информацию при выдаче кредита, либо сами клиенты не предоставили эту информацию банку и банк счел это возможным). \n",
    "\n",
    "И для более точного понимания природы данных пропусков далее определим какой тип занятости среди них преобладает больше и в одних ли пенсионерах дело."
   ]
  },
  {
   "cell_type": "code",
   "execution_count": 5,
   "metadata": {},
   "outputs": [
    {
     "data": {
      "text/plain": [
       "сотрудник          1105\n",
       "компаньон           508\n",
       "пенсионер           413\n",
       "госслужащий         147\n",
       "предприниматель       1\n",
       "Name: income_type, dtype: int64"
      ]
     },
     "execution_count": 5,
     "metadata": {},
     "output_type": "execute_result"
    }
   ],
   "source": [
    "# зададим одновременное выполнения условия о пропусках в обоих столбцах\n",
    "# и далее методом 'value_counts()' посмотрим на кол-во удовлетворяющих нашему условию значений\n",
    "\n",
    "nan_data = data[(data['days_employed'].isnull() == True) & (data['total_income'].isnull() == True)]\n",
    "who_nan = nan_data['income_type'].value_counts()\n",
    "who_nan"
   ]
  },
  {
   "cell_type": "markdown",
   "metadata": {},
   "source": [
    "Как мы видим - дело не в пенсионерах, у обычных сотрудников так же есть пропуски в стаже и зарплате. "
   ]
  },
  {
   "cell_type": "markdown",
   "metadata": {},
   "source": [
    "<div style=\"border:solid black 2px; padding: 20px\">\n",
    "На данном этапе мы: <br />\n",
    "    \n",
    "- Ознакомились с предоставленной нам таблицей, оценили тип данных каждого столбца.\n",
    "- Визуально просмотрели содержимое, смогли заметить некоторые проблемы в загруженных данных, которые мы описали выше.\n",
    "- Далее нам необходимо будет скорректировать и исправить найденные ошибки, а так же определиться и выделить основные интересующие нас данные, которые смогут ответить на поставленные перед нами вопросы исследования.\n",
    "</div>"
   ]
  },
  {
   "cell_type": "markdown",
   "metadata": {},
   "source": [
    "## Предобработка данных "
   ]
  },
  {
   "cell_type": "markdown",
   "metadata": {},
   "source": [
    "<a id=\"#start\"></a>\n",
    "В качестве расшифровки столбцов датафрейма у нас есть следующие исходные данные:\n",
    "- *children* — количество детей в семье\n",
    "- *days_employed* — общий трудовой стаж в днях\n",
    "- *dob_years* — возраст клиента в годах\n",
    "- *education* — уровень образования клиента\n",
    "- *education_id* — идентификатор уровня образования\n",
    "- *family_status* — семейное положение\n",
    "- *family_status_id* — идентификатор семейного положения\n",
    "- *gender* — пол клиента\n",
    "- *income_type* — тип занятости\n",
    "- *debt* — имел ли задолженность по возврату кредитов\n",
    "- *total_income* — ежемесячный доход\n",
    "- *purpose* — цель получения кредита\n",
    "\n",
    "Некоторые названия столбцов не отражают в достаточной мере сути своего содержания для дальнейшей работы с ними, поэтому для нашего удобства переименуем некоторые из них методом `set_axis()`:\n",
    "- children —> *children_numbers*\n",
    "- dob_years —> *age*\n",
    "- education —> *education_level*\n",
    "- income_type —> *employment_type*\n",
    "- debt —> *debt_case*\n",
    "- total_income —> *monthly_income*"
   ]
  },
  {
   "cell_type": "code",
   "execution_count": 6,
   "metadata": {},
   "outputs": [
    {
     "data": {
      "text/html": [
       "<div>\n",
       "<style scoped>\n",
       "    .dataframe tbody tr th:only-of-type {\n",
       "        vertical-align: middle;\n",
       "    }\n",
       "\n",
       "    .dataframe tbody tr th {\n",
       "        vertical-align: top;\n",
       "    }\n",
       "\n",
       "    .dataframe thead th {\n",
       "        text-align: right;\n",
       "    }\n",
       "</style>\n",
       "<table border=\"1\" class=\"dataframe\">\n",
       "  <thead>\n",
       "    <tr style=\"text-align: right;\">\n",
       "      <th></th>\n",
       "      <th>children_numbers</th>\n",
       "      <th>days_employed</th>\n",
       "      <th>age</th>\n",
       "      <th>education_level</th>\n",
       "      <th>education_id</th>\n",
       "      <th>family_status</th>\n",
       "      <th>family_status_id</th>\n",
       "      <th>gender</th>\n",
       "      <th>employment_type</th>\n",
       "      <th>debt_case</th>\n",
       "      <th>monthly_income</th>\n",
       "      <th>purpose</th>\n",
       "    </tr>\n",
       "  </thead>\n",
       "  <tbody>\n",
       "    <tr>\n",
       "      <td>0</td>\n",
       "      <td>1</td>\n",
       "      <td>-8437.673028</td>\n",
       "      <td>42</td>\n",
       "      <td>высшее</td>\n",
       "      <td>0</td>\n",
       "      <td>женат / замужем</td>\n",
       "      <td>0</td>\n",
       "      <td>F</td>\n",
       "      <td>сотрудник</td>\n",
       "      <td>0</td>\n",
       "      <td>253875.639453</td>\n",
       "      <td>покупка жилья</td>\n",
       "    </tr>\n",
       "    <tr>\n",
       "      <td>1</td>\n",
       "      <td>1</td>\n",
       "      <td>-4024.803754</td>\n",
       "      <td>36</td>\n",
       "      <td>среднее</td>\n",
       "      <td>1</td>\n",
       "      <td>женат / замужем</td>\n",
       "      <td>0</td>\n",
       "      <td>F</td>\n",
       "      <td>сотрудник</td>\n",
       "      <td>0</td>\n",
       "      <td>112080.014102</td>\n",
       "      <td>приобретение автомобиля</td>\n",
       "    </tr>\n",
       "    <tr>\n",
       "      <td>2</td>\n",
       "      <td>0</td>\n",
       "      <td>-5623.422610</td>\n",
       "      <td>33</td>\n",
       "      <td>Среднее</td>\n",
       "      <td>1</td>\n",
       "      <td>женат / замужем</td>\n",
       "      <td>0</td>\n",
       "      <td>M</td>\n",
       "      <td>сотрудник</td>\n",
       "      <td>0</td>\n",
       "      <td>145885.952297</td>\n",
       "      <td>покупка жилья</td>\n",
       "    </tr>\n",
       "  </tbody>\n",
       "</table>\n",
       "</div>"
      ],
      "text/plain": [
       "   children_numbers  days_employed  age education_level  education_id  \\\n",
       "0                 1   -8437.673028   42          высшее             0   \n",
       "1                 1   -4024.803754   36         среднее             1   \n",
       "2                 0   -5623.422610   33         Среднее             1   \n",
       "\n",
       "     family_status  family_status_id gender employment_type  debt_case  \\\n",
       "0  женат / замужем                 0      F       сотрудник          0   \n",
       "1  женат / замужем                 0      F       сотрудник          0   \n",
       "2  женат / замужем                 0      M       сотрудник          0   \n",
       "\n",
       "   monthly_income                  purpose  \n",
       "0   253875.639453            покупка жилья  \n",
       "1   112080.014102  приобретение автомобиля  \n",
       "2   145885.952297            покупка жилья  "
      ]
     },
     "execution_count": 6,
     "metadata": {},
     "output_type": "execute_result"
    }
   ],
   "source": [
    "data.set_axis(['children_numbers', 'days_employed', 'age', 'education_level', 'education_id', 'family_status', 'family_status_id', 'gender', 'employment_type', 'debt_case', 'monthly_income', 'purpose'], axis = 'columns', inplace = True)\n",
    "\n",
    "# проверим, что замена произошла успешно, выведем первые несколько строк на экран\n",
    "data.head(3)"
   ]
  },
  {
   "cell_type": "code",
   "execution_count": 7,
   "metadata": {},
   "outputs": [],
   "source": [
    "# далее приведем в порядок регистр букв в колонке 'education_level'\n",
    "data['education_level'] = data['education_level'].str.lower() \n",
    "\n",
    "# избавимся от знаков минус в колонке 'days_employed'\n",
    "data.loc[data['days_employed'] < 0, 'days_employed'] = data['days_employed'] * (-1)"
   ]
  },
  {
   "cell_type": "markdown",
   "metadata": {},
   "source": [
    "Поскольку для поставленного перед нами исследования дни стажа не помогут определить ответ на поставленные вопросы, мы просто проверим на будущее верно ли выружаются сами дни стажа (т.к. визуально мы заметили огромные значения, что похоже на сбой)."
   ]
  },
  {
   "cell_type": "code",
   "execution_count": 8,
   "metadata": {},
   "outputs": [
    {
     "name": "stdout",
     "output_type": "stream",
     "text": [
      "<class 'pandas.core.frame.DataFrame'>\n",
      "Int64Index: 3670 entries, 4 to 21521\n",
      "Data columns (total 12 columns):\n",
      "children_numbers    3670 non-null int64\n",
      "days_employed       3670 non-null float64\n",
      "age                 3670 non-null int64\n",
      "education_level     3670 non-null object\n",
      "education_id        3670 non-null int64\n",
      "family_status       3670 non-null object\n",
      "family_status_id    3670 non-null int64\n",
      "gender              3670 non-null object\n",
      "employment_type     3670 non-null object\n",
      "debt_case           3670 non-null int64\n",
      "monthly_income      3670 non-null float64\n",
      "purpose             3670 non-null object\n",
      "dtypes: float64(2), int64(5), object(5)\n",
      "memory usage: 372.7+ KB\n"
     ]
    }
   ],
   "source": [
    "# Допустим, что максимально возможное кол-во лет стажа для человека = 42. Среднее количество рабочих дней в году = 247,\n",
    "# выведем на экран сколько строк найдется по данному условию:\n",
    "\n",
    "employed_artifacts = data[data['days_employed'] > (42*247)]\n",
    "employed_artifacts.info()"
   ]
  },
  {
   "cell_type": "markdown",
   "metadata": {},
   "source": [
    "Итого = 3670 строк. Судя по всему есть техническая проблема. Все рекомендации для поставщиков данных мы дадим в конце документа."
   ]
  },
  {
   "cell_type": "markdown",
   "metadata": {},
   "source": [
    "<div style=\"border:solid black 2px; padding: 20px\">\n",
    "На данном этапе мы: <br />\n",
    "    \n",
    "- Произвели замену некоторых наименований столбцов в сторону наиболее понятных для восприятия.\n",
    "- Привели в порядок регистр букв в колонке `education_level`. \n",
    "- Убрали лишние выгруженные знаки \"-\" в колонке `days_employed`.\n",
    "- Обнаружили проблему технического характера при выгрузке данных в колонку `days_employed`\n",
    "</div>"
   ]
  },
  {
   "cell_type": "markdown",
   "metadata": {},
   "source": [
    "### Обработка пропусков"
   ]
  },
  {
   "cell_type": "markdown",
   "metadata": {},
   "source": [
    "**Ежемесячный доход (в отличии от стажа) играет важную роль в нашем анализе, поэтому произведем замену пропусков:**\n",
    "- Поскольку это не категорийные значения, а количественные и у нас есть данные о доходах остальных клиентов, будет логично заполнить далее эти пропуски медианой вне зависимости от трудового стажа, либо типа занятости (т.к. эти данные весьма субъективны, специфичны по представленной категоризации и не являются ориентирами для нас при заполнении пропусков, в отличии, например, от категоризации по профессиям).\n",
    "- Среднее арифмитическое значение дохода не будем использовать категорически в данном случае, чтобы избежать перекоса в итоговых значениях."
   ]
  },
  {
   "cell_type": "code",
   "execution_count": 9,
   "metadata": {},
   "outputs": [
    {
     "data": {
      "text/plain": [
       "children_numbers    0\n",
       "days_employed       0\n",
       "age                 0\n",
       "education_level     0\n",
       "education_id        0\n",
       "family_status       0\n",
       "family_status_id    0\n",
       "gender              0\n",
       "employment_type     0\n",
       "debt_case           0\n",
       "monthly_income      0\n",
       "purpose             0\n",
       "dtype: int64"
      ]
     },
     "execution_count": 9,
     "metadata": {},
     "output_type": "execute_result"
    }
   ],
   "source": [
    "# произведем замену пропущенных значений медианой в обоих столбцах 'days_employed' и 'monthly_income'\n",
    "data['days_employed'] = data['days_employed'].fillna(data['days_employed'].median())\n",
    "data['monthly_income'] = data['monthly_income'].fillna(data['monthly_income'].median())\n",
    "\n",
    "# проверим, что пропусков не осталось\n",
    "data.isnull().sum()"
   ]
  },
  {
   "cell_type": "code",
   "execution_count": 10,
   "metadata": {},
   "outputs": [
    {
     "name": "stdout",
     "output_type": "stream",
     "text": [
      "Уникальные значения количества детей:  [ 1  0  3  2 -1  4 20  5]\n",
      "Уникальные значения семейного положения:  ['женат / замужем' 'гражданский брак' 'вдовец / вдова' 'в разводе'\n",
      " 'Не женат / не замужем']\n",
      "Уникальные значения пола:  ['F' 'M' 'XNA']\n",
      "Уникальные значения случаев задолженности:  [0 1]\n",
      "Уникальные значения возраста:  [42 36 33 32 53 27 43 50 35 41 40 65 54 56 26 48 24 21 57 67 28 63 62 47\n",
      " 34 68 25 31 30 20 49 37 45 61 64 44 52 46 23 38 39 51  0 59 29 60 55 58\n",
      " 71 22 73 66 69 19 72 70 74 75]\n"
     ]
    }
   ],
   "source": [
    "# далее проверим некоторые столбцы на уникальные значения и их корректность\n",
    "\n",
    "print('Уникальные значения количества детей: ', data['children_numbers'].unique())\n",
    "print('Уникальные значения семейного положения: ', data['family_status'].unique())\n",
    "print('Уникальные значения пола: ', data['gender'].unique())\n",
    "print('Уникальные значения случаев задолженности: ', data['debt_case'].unique())\n",
    "print('Уникальные значения возраста: ', data['age'].unique())"
   ]
  },
  {
   "cell_type": "markdown",
   "metadata": {},
   "source": [
    "1. Мы видим некоторые неточности выгрузки. Количество детей \"-1\" и \"20\". Возможно у кого-то действительно есть 20 детей, но тут скорее всего ошибка ввода: заменим \"-1\" на \"1\", \"20 на \"2\".\n",
    "2. В значении пола судя по всему так же случайный пропуск - \"XNA\". Посмотрим сколько таких значений всего в таблице.\n",
    "3. \"Нулевые\" значения возраста заменим средним значением, судя по всему это случайные пропуски."
   ]
  },
  {
   "cell_type": "code",
   "execution_count": 11,
   "metadata": {},
   "outputs": [
    {
     "data": {
      "text/plain": [
       "F      14236\n",
       "M       7288\n",
       "XNA        1\n",
       "Name: gender, dtype: int64"
      ]
     },
     "execution_count": 11,
     "metadata": {},
     "output_type": "execute_result"
    }
   ],
   "source": [
    "# меняем значения \"-1\" на \"1\", \"20 на \"2\" в колонке 'children_numbers'\n",
    "data.loc[data['children_numbers'] == -1, 'children_numbers'] = 1\n",
    "data.loc[data['children_numbers'] == 20, 'children_numbers'] = 2\n",
    "\n",
    "# посмотрим сколько всего значений 'XNA' содержит столбец 'gender'\n",
    "data['gender'].value_counts()"
   ]
  },
  {
   "cell_type": "markdown",
   "metadata": {},
   "source": [
    "Значение 'XNA' в 1 экземпляре."
   ]
  },
  {
   "cell_type": "code",
   "execution_count": 12,
   "metadata": {},
   "outputs": [],
   "source": [
    "# заменим ошибочное значение 'XNA' на любое значение, например, на \"F\" (т.к. это единичная замена и это не критично)\n",
    "data.loc[data['gender'] == 'XNA', 'gender'] = 'F'\n",
    "\n",
    "# \"нулевые\" значения возраста заменим на среднее арифмитическое значение\n",
    "data.loc[data['age'] == 0, 'age'] = data['age'].mean()"
   ]
  },
  {
   "cell_type": "markdown",
   "metadata": {},
   "source": [
    "<div style=\"border:solid black 2px; padding: 20px\">\n",
    "На данном этапе мы привели в порядок содержание всех ячеек таблицы: \n",
    "    \n",
    "- заполнили пропуски в столбцах `days_employed` и `monthly_income` медианой на основании вышеизложенного.\n",
    "- проверили важные для нашего исследования значения столбцов на корректность отображения, нашли неточности и скорректировали их. \n",
    "                                                                                                            \n",
    "</div>"
   ]
  },
  {
   "cell_type": "markdown",
   "metadata": {},
   "source": [
    "### Замена типа данных"
   ]
  },
  {
   "cell_type": "markdown",
   "metadata": {},
   "source": [
    "**Далее приведем в порядок тип данных. Как ранее упоминали нам нужно отбросить лишние знаки после запятой, а так же избежать возможных ошибок в выполнении кода: преобразуем тип данных колонок 'days_employed', 'monthly_income', а так же 'age'* (*после замены нулевых значений на среднее - столбец 'age' так же стал типа float64) в целочисленный методом 'astype()'.**\n"
   ]
  },
  {
   "cell_type": "code",
   "execution_count": 13,
   "metadata": {},
   "outputs": [
    {
     "name": "stdout",
     "output_type": "stream",
     "text": [
      "<class 'pandas.core.frame.DataFrame'>\n",
      "RangeIndex: 21525 entries, 0 to 21524\n",
      "Data columns (total 12 columns):\n",
      "children_numbers    21525 non-null int64\n",
      "days_employed       21525 non-null float64\n",
      "age                 21525 non-null float64\n",
      "education_level     21525 non-null object\n",
      "education_id        21525 non-null int64\n",
      "family_status       21525 non-null object\n",
      "family_status_id    21525 non-null int64\n",
      "gender              21525 non-null object\n",
      "employment_type     21525 non-null object\n",
      "debt_case           21525 non-null int64\n",
      "monthly_income      21525 non-null float64\n",
      "purpose             21525 non-null object\n",
      "dtypes: float64(3), int64(4), object(5)\n",
      "memory usage: 2.0+ MB\n"
     ]
    }
   ],
   "source": [
    "# выведем информацию для наглядности\n",
    "data.info()"
   ]
  },
  {
   "cell_type": "code",
   "execution_count": 14,
   "metadata": {},
   "outputs": [
    {
     "name": "stdout",
     "output_type": "stream",
     "text": [
      "<class 'pandas.core.frame.DataFrame'>\n",
      "RangeIndex: 21525 entries, 0 to 21524\n",
      "Data columns (total 12 columns):\n",
      "children_numbers    21525 non-null int64\n",
      "days_employed       21525 non-null int64\n",
      "age                 21525 non-null int64\n",
      "education_level     21525 non-null object\n",
      "education_id        21525 non-null int64\n",
      "family_status       21525 non-null object\n",
      "family_status_id    21525 non-null int64\n",
      "gender              21525 non-null object\n",
      "employment_type     21525 non-null object\n",
      "debt_case           21525 non-null int64\n",
      "monthly_income      21525 non-null int64\n",
      "purpose             21525 non-null object\n",
      "dtypes: int64(7), object(5)\n",
      "memory usage: 2.0+ MB\n"
     ]
    }
   ],
   "source": [
    "# заменим тип данных на 'int' \n",
    "data['days_employed'] = data['days_employed'].astype('int')\n",
    "data['monthly_income'] = data['monthly_income'].astype('int')\n",
    "data['age'] = data['age'].astype('int')\n",
    "\n",
    "# проверим\n",
    "data.info()"
   ]
  },
  {
   "cell_type": "markdown",
   "metadata": {},
   "source": [
    "<div style=\"border:solid black 2px; padding: 20px\">\n",
    "    \n",
    "Мы произвели замену типа данных колонок `days_employed` , `monthly_income` и `age` из плавающего типа в целочисленный тип методом 'astype()'.\n",
    "    \n",
    "Методом 'to_numeric()' не пользовались в данном случае, т.к. он преобразовывает тип данных в float, который как раз изначально мы имели.\n",
    "    \n",
    "</div>"
   ]
  },
  {
   "cell_type": "markdown",
   "metadata": {},
   "source": [
    "### Обработка дубликатов"
   ]
  },
  {
   "cell_type": "markdown",
   "metadata": {},
   "source": [
    "**Предобработку мы почти завершили, теперь остается найти и посчитать количество грубых дубликатов в нашей таблице.**\n",
    "Т.к. мы привели в единый регистр столбец `education_level` теперь поиск дубликатов будет эффективным."
   ]
  },
  {
   "cell_type": "code",
   "execution_count": 15,
   "metadata": {},
   "outputs": [
    {
     "name": "stdout",
     "output_type": "stream",
     "text": [
      "Дубликатов найдено: 71\n"
     ]
    }
   ],
   "source": [
    "# используем метод 'duplicated()' и следом метод 'sum()' для подсчета количества\n",
    "print('Дубликатов найдено:', data.duplicated().sum())"
   ]
  },
  {
   "cell_type": "markdown",
   "metadata": {},
   "source": [
    "Поскольку грубых дубликатов не так много - можно предположить, что имеет место ситуация задвоения ввода в момент сбора информации в банке, или задвоения при выгрузке таблицы."
   ]
  },
  {
   "cell_type": "code",
   "execution_count": 16,
   "metadata": {},
   "outputs": [
    {
     "name": "stdout",
     "output_type": "stream",
     "text": [
      "Дубликатов осталось: 0\n"
     ]
    }
   ],
   "source": [
    "# удалим эти дубликаты, одновременно сохраняя индекс каждой строки, используя метод 'reset_index(drop=True)'\n",
    "data = data.drop_duplicates().reset_index(drop=True)\n",
    "print('Дубликатов осталось:', data.duplicated().sum())"
   ]
  },
  {
   "cell_type": "markdown",
   "metadata": {},
   "source": [
    "<div style=\"border:solid black 2px; padding: 20px\">\n",
    "    \n",
    "На данном этапе мы выполнили полную предобработку данных, обнаружили грубые дубликаты и удалили их.\n",
    "Можно переходить непосредственно к лемматизации и категоризации.\n",
    "    \n",
    "</div>"
   ]
  },
  {
   "cell_type": "markdown",
   "metadata": {},
   "source": [
    "### Лемматизация"
   ]
  },
  {
   "cell_type": "markdown",
   "metadata": {},
   "source": [
    "**Перед нами стоит задача найти ответ как разные цели кредита влияют на возврат кредита в срок, поэтому для начала нам нужно лемматизировать значения последнего столбца таблицы 'purpose' и найти самые распространенные цели. И затем их категоризировать по целям.**"
   ]
  },
  {
   "cell_type": "code",
   "execution_count": 17,
   "metadata": {},
   "outputs": [
    {
     "data": {
      "text/plain": [
       "[['покупка', ' ', 'жилье', '\\n'],\n",
       " ['приобретение', ' ', 'автомобиль', '\\n'],\n",
       " ['дополнительный', ' ', 'образование', '\\n'],\n",
       " ['сыграть', ' ', 'свадьба', '\\n'],\n",
       " ['операция', ' ', 'с', ' ', 'жилье', '\\n'],\n",
       " ['образование', '\\n'],\n",
       " ['на', ' ', 'проведение', ' ', 'свадьба', '\\n'],\n",
       " ['покупка', ' ', 'жилье', ' ', 'для', ' ', 'семья', '\\n'],\n",
       " ['покупка', ' ', 'недвижимость', '\\n'],\n",
       " ['покупка', ' ', 'коммерческий', ' ', 'недвижимость', '\\n'],\n",
       " ['покупка', ' ', 'жилой', ' ', 'недвижимость', '\\n'],\n",
       " ['строительство', ' ', 'собственный', ' ', 'недвижимость', '\\n'],\n",
       " ['недвижимость', '\\n'],\n",
       " ['строительство', ' ', 'недвижимость', '\\n'],\n",
       " ['на', ' ', 'покупка', ' ', 'подержать', ' ', 'автомобиль', '\\n'],\n",
       " ['на', ' ', 'покупка', ' ', 'свой', ' ', 'автомобиль', '\\n'],\n",
       " ['операция', ' ', 'с', ' ', 'коммерческий', ' ', 'недвижимость', '\\n'],\n",
       " ['строительство', ' ', 'жилой', ' ', 'недвижимость', '\\n'],\n",
       " ['жилье', '\\n'],\n",
       " ['операция', ' ', 'со', ' ', 'свой', ' ', 'недвижимость', '\\n'],\n",
       " ['автомобиль', '\\n'],\n",
       " ['заниматься', ' ', 'образование', '\\n'],\n",
       " ['сделка', ' ', 'с', ' ', 'подержанный', ' ', 'автомобиль', '\\n'],\n",
       " ['получение', ' ', 'образование', '\\n'],\n",
       " ['автомобиль', '\\n'],\n",
       " ['свадьба', '\\n'],\n",
       " ['получение', ' ', 'дополнительный', ' ', 'образование', '\\n'],\n",
       " ['покупка', ' ', 'свой', ' ', 'жилье', '\\n'],\n",
       " ['операция', ' ', 'с', ' ', 'недвижимость', '\\n'],\n",
       " ['получение', ' ', 'высокий', ' ', 'образование', '\\n'],\n",
       " ['свой', ' ', 'автомобиль', '\\n'],\n",
       " ['сделка', ' ', 'с', ' ', 'автомобиль', '\\n'],\n",
       " ['профильный', ' ', 'образование', '\\n'],\n",
       " ['высокий', ' ', 'образование', '\\n'],\n",
       " ['покупка', ' ', 'жилье', ' ', 'для', ' ', 'сдача', '\\n'],\n",
       " ['на', ' ', 'покупка', ' ', 'автомобиль', '\\n'],\n",
       " ['ремонт', ' ', 'жилье', '\\n'],\n",
       " ['заниматься', ' ', 'высокий', ' ', 'образование', '\\n']]"
      ]
     },
     "metadata": {},
     "output_type": "display_data"
    }
   ],
   "source": [
    "# в переменную 'purpose_unique_list' сохраним уникальные значения из столбца 'purpose', используя метод 'unique()'\n",
    "# далее в цикле лемматизируем каждое значение из 'purpose_unique_list' и передадим его в новый список лемм 'purpose_lemmas'\n",
    "# после чего выведем на экран полученный результат:\n",
    "\n",
    "from pymystem3 import Mystem\n",
    "from collections import Counter\n",
    "m = Mystem()\n",
    "purpose_unique_list = data['purpose'].unique()\n",
    "purpose_lemmas = []\n",
    "for i in purpose_unique_list:\n",
    "    lemma = m.lemmatize(i)\n",
    "    purpose_lemmas.append(lemma)\n",
    "display(purpose_lemmas)"
   ]
  },
  {
   "cell_type": "markdown",
   "metadata": {},
   "source": [
    "<div style=\"border:solid black 2px; padding: 20px\">\n",
    "    \n",
    "На данном этапе мы выполнили лемматизацию целей кредита по колонке `purpose`. Это существенно облегчит нам задачу в понимании основных целей кредита и их последующую категоризацию.\n",
    "    \n",
    "</div>"
   ]
  },
  {
   "cell_type": "markdown",
   "metadata": {},
   "source": [
    "### Категоризация данных"
   ]
  },
  {
   "cell_type": "markdown",
   "metadata": {},
   "source": [
    "**Произведем категоризацию целей кредита по результатам проведенной лемматизации.**\n",
    "Просмотрев полученный список лемм (отбросив не существенные слова, относящиеся к действиям и прилагательным) - мы можем выделить 4 основные категории целей кредита по ключевым словам:\n",
    "1. Недвижимость (или жилье)\n",
    "2. Свадьба\n",
    "3. Автомобиль\n",
    "4. Образование\n",
    "\n",
    "Добавим в таблицу новую колонку с этими категорию, назовем ее 'purpose_main'."
   ]
  },
  {
   "cell_type": "code",
   "execution_count": 18,
   "metadata": {},
   "outputs": [
    {
     "data": {
      "text/html": [
       "<div>\n",
       "<style scoped>\n",
       "    .dataframe tbody tr th:only-of-type {\n",
       "        vertical-align: middle;\n",
       "    }\n",
       "\n",
       "    .dataframe tbody tr th {\n",
       "        vertical-align: top;\n",
       "    }\n",
       "\n",
       "    .dataframe thead th {\n",
       "        text-align: right;\n",
       "    }\n",
       "</style>\n",
       "<table border=\"1\" class=\"dataframe\">\n",
       "  <thead>\n",
       "    <tr style=\"text-align: right;\">\n",
       "      <th></th>\n",
       "      <th>children_numbers</th>\n",
       "      <th>days_employed</th>\n",
       "      <th>age</th>\n",
       "      <th>education_level</th>\n",
       "      <th>education_id</th>\n",
       "      <th>family_status</th>\n",
       "      <th>family_status_id</th>\n",
       "      <th>gender</th>\n",
       "      <th>employment_type</th>\n",
       "      <th>debt_case</th>\n",
       "      <th>monthly_income</th>\n",
       "      <th>purpose</th>\n",
       "      <th>purpose_main</th>\n",
       "    </tr>\n",
       "  </thead>\n",
       "  <tbody>\n",
       "    <tr>\n",
       "      <td>0</td>\n",
       "      <td>1</td>\n",
       "      <td>8437</td>\n",
       "      <td>42</td>\n",
       "      <td>высшее</td>\n",
       "      <td>0</td>\n",
       "      <td>женат / замужем</td>\n",
       "      <td>0</td>\n",
       "      <td>F</td>\n",
       "      <td>сотрудник</td>\n",
       "      <td>0</td>\n",
       "      <td>253875</td>\n",
       "      <td>покупка жилья</td>\n",
       "      <td>недвижимость</td>\n",
       "    </tr>\n",
       "    <tr>\n",
       "      <td>1</td>\n",
       "      <td>1</td>\n",
       "      <td>4024</td>\n",
       "      <td>36</td>\n",
       "      <td>среднее</td>\n",
       "      <td>1</td>\n",
       "      <td>женат / замужем</td>\n",
       "      <td>0</td>\n",
       "      <td>F</td>\n",
       "      <td>сотрудник</td>\n",
       "      <td>0</td>\n",
       "      <td>112080</td>\n",
       "      <td>приобретение автомобиля</td>\n",
       "      <td>автомобиль</td>\n",
       "    </tr>\n",
       "    <tr>\n",
       "      <td>2</td>\n",
       "      <td>0</td>\n",
       "      <td>5623</td>\n",
       "      <td>33</td>\n",
       "      <td>среднее</td>\n",
       "      <td>1</td>\n",
       "      <td>женат / замужем</td>\n",
       "      <td>0</td>\n",
       "      <td>M</td>\n",
       "      <td>сотрудник</td>\n",
       "      <td>0</td>\n",
       "      <td>145885</td>\n",
       "      <td>покупка жилья</td>\n",
       "      <td>недвижимость</td>\n",
       "    </tr>\n",
       "    <tr>\n",
       "      <td>3</td>\n",
       "      <td>3</td>\n",
       "      <td>4124</td>\n",
       "      <td>32</td>\n",
       "      <td>среднее</td>\n",
       "      <td>1</td>\n",
       "      <td>женат / замужем</td>\n",
       "      <td>0</td>\n",
       "      <td>M</td>\n",
       "      <td>сотрудник</td>\n",
       "      <td>0</td>\n",
       "      <td>267628</td>\n",
       "      <td>дополнительное образование</td>\n",
       "      <td>образование</td>\n",
       "    </tr>\n",
       "    <tr>\n",
       "      <td>4</td>\n",
       "      <td>0</td>\n",
       "      <td>340266</td>\n",
       "      <td>53</td>\n",
       "      <td>среднее</td>\n",
       "      <td>1</td>\n",
       "      <td>гражданский брак</td>\n",
       "      <td>1</td>\n",
       "      <td>F</td>\n",
       "      <td>пенсионер</td>\n",
       "      <td>0</td>\n",
       "      <td>158616</td>\n",
       "      <td>сыграть свадьбу</td>\n",
       "      <td>свадьба</td>\n",
       "    </tr>\n",
       "  </tbody>\n",
       "</table>\n",
       "</div>"
      ],
      "text/plain": [
       "   children_numbers  days_employed  age education_level  education_id  \\\n",
       "0                 1           8437   42          высшее             0   \n",
       "1                 1           4024   36         среднее             1   \n",
       "2                 0           5623   33         среднее             1   \n",
       "3                 3           4124   32         среднее             1   \n",
       "4                 0         340266   53         среднее             1   \n",
       "\n",
       "      family_status  family_status_id gender employment_type  debt_case  \\\n",
       "0   женат / замужем                 0      F       сотрудник          0   \n",
       "1   женат / замужем                 0      F       сотрудник          0   \n",
       "2   женат / замужем                 0      M       сотрудник          0   \n",
       "3   женат / замужем                 0      M       сотрудник          0   \n",
       "4  гражданский брак                 1      F       пенсионер          0   \n",
       "\n",
       "   monthly_income                     purpose  purpose_main  \n",
       "0          253875               покупка жилья  недвижимость  \n",
       "1          112080     приобретение автомобиля    автомобиль  \n",
       "2          145885               покупка жилья  недвижимость  \n",
       "3          267628  дополнительное образование   образование  \n",
       "4          158616             сыграть свадьбу       свадьба  "
      ]
     },
     "execution_count": 18,
     "metadata": {},
     "output_type": "execute_result"
    }
   ],
   "source": [
    "# для категоризации создадим функцию 'purpose_category()', которая будет проверять на вход значения из столбца 'purpose',\n",
    "# и в зависимости от соответствия лемме 'pur_lemma' того же столбца функция будет возвращать ту категорию из 4-х, которой\n",
    "# соответствует по заданному условию\n",
    "\n",
    "def purpose_category(purpose):\n",
    "    pur_lemma = m.lemmatize(purpose)\n",
    "    if 'недвижимость' in pur_lemma or 'жилье' in pur_lemma:\n",
    "        return 'недвижимость'\n",
    "    elif 'свадьба' in pur_lemma:\n",
    "        return 'свадьба'\n",
    "    elif 'автомобиль' in pur_lemma:\n",
    "        return 'автомобиль'\n",
    "    elif 'образование' in pur_lemma:\n",
    "        return 'образование'\n",
    "    else:\n",
    "        return 'другое'\n",
    "    \n",
    "# методом 'apply' применим созданную функцию к столбцу 'purpose' и полученные значения \n",
    "# будут переданы в новый столбец 'purpose_main'\n",
    "data['purpose_main'] = data['purpose'].apply(purpose_category)\n",
    "\n",
    "# проверим наглядно результат\n",
    "data.head()"
   ]
  },
  {
   "cell_type": "markdown",
   "metadata": {},
   "source": [
    "Категоризацию по целям кредита мы провели, проведем теперь **категоризацию по уровню дохода**, т.к. далее эти показатели нам будут нужны.\n",
    "Создадим 4 категории с названиями уровней доходов, которые на наш взгляд адекватны и актуальны в текущих реалиях как по названию, так и по содержанию их граничащих значений:\n",
    "- **Низкий** (уровень дохода менее 50 000 р.)\n",
    "- **Средний** (от 50 001 р. до 100 000 р.)\n",
    "- **Выше среднего** (от 100 001 р. до 200 000 руб.)\n",
    "- **Высокий** (от 200 001 руб. и более)\n",
    "\n",
    "Так же как и с категоризацией целей кредита, создадим функцию, которая поможет создать нам новый столбец с названиями категорий в соответствии от уровня дохода."
   ]
  },
  {
   "cell_type": "code",
   "execution_count": 19,
   "metadata": {},
   "outputs": [
    {
     "data": {
      "text/html": [
       "<div>\n",
       "<style scoped>\n",
       "    .dataframe tbody tr th:only-of-type {\n",
       "        vertical-align: middle;\n",
       "    }\n",
       "\n",
       "    .dataframe tbody tr th {\n",
       "        vertical-align: top;\n",
       "    }\n",
       "\n",
       "    .dataframe thead th {\n",
       "        text-align: right;\n",
       "    }\n",
       "</style>\n",
       "<table border=\"1\" class=\"dataframe\">\n",
       "  <thead>\n",
       "    <tr style=\"text-align: right;\">\n",
       "      <th></th>\n",
       "      <th>children_numbers</th>\n",
       "      <th>days_employed</th>\n",
       "      <th>age</th>\n",
       "      <th>education_level</th>\n",
       "      <th>education_id</th>\n",
       "      <th>family_status</th>\n",
       "      <th>family_status_id</th>\n",
       "      <th>gender</th>\n",
       "      <th>employment_type</th>\n",
       "      <th>debt_case</th>\n",
       "      <th>monthly_income</th>\n",
       "      <th>purpose</th>\n",
       "      <th>purpose_main</th>\n",
       "      <th>income_level</th>\n",
       "    </tr>\n",
       "  </thead>\n",
       "  <tbody>\n",
       "    <tr>\n",
       "      <td>0</td>\n",
       "      <td>1</td>\n",
       "      <td>8437</td>\n",
       "      <td>42</td>\n",
       "      <td>высшее</td>\n",
       "      <td>0</td>\n",
       "      <td>женат / замужем</td>\n",
       "      <td>0</td>\n",
       "      <td>F</td>\n",
       "      <td>сотрудник</td>\n",
       "      <td>0</td>\n",
       "      <td>253875</td>\n",
       "      <td>покупка жилья</td>\n",
       "      <td>недвижимость</td>\n",
       "      <td>высокий</td>\n",
       "    </tr>\n",
       "    <tr>\n",
       "      <td>1</td>\n",
       "      <td>1</td>\n",
       "      <td>4024</td>\n",
       "      <td>36</td>\n",
       "      <td>среднее</td>\n",
       "      <td>1</td>\n",
       "      <td>женат / замужем</td>\n",
       "      <td>0</td>\n",
       "      <td>F</td>\n",
       "      <td>сотрудник</td>\n",
       "      <td>0</td>\n",
       "      <td>112080</td>\n",
       "      <td>приобретение автомобиля</td>\n",
       "      <td>автомобиль</td>\n",
       "      <td>выше среднего</td>\n",
       "    </tr>\n",
       "    <tr>\n",
       "      <td>2</td>\n",
       "      <td>0</td>\n",
       "      <td>5623</td>\n",
       "      <td>33</td>\n",
       "      <td>среднее</td>\n",
       "      <td>1</td>\n",
       "      <td>женат / замужем</td>\n",
       "      <td>0</td>\n",
       "      <td>M</td>\n",
       "      <td>сотрудник</td>\n",
       "      <td>0</td>\n",
       "      <td>145885</td>\n",
       "      <td>покупка жилья</td>\n",
       "      <td>недвижимость</td>\n",
       "      <td>выше среднего</td>\n",
       "    </tr>\n",
       "    <tr>\n",
       "      <td>3</td>\n",
       "      <td>3</td>\n",
       "      <td>4124</td>\n",
       "      <td>32</td>\n",
       "      <td>среднее</td>\n",
       "      <td>1</td>\n",
       "      <td>женат / замужем</td>\n",
       "      <td>0</td>\n",
       "      <td>M</td>\n",
       "      <td>сотрудник</td>\n",
       "      <td>0</td>\n",
       "      <td>267628</td>\n",
       "      <td>дополнительное образование</td>\n",
       "      <td>образование</td>\n",
       "      <td>высокий</td>\n",
       "    </tr>\n",
       "    <tr>\n",
       "      <td>4</td>\n",
       "      <td>0</td>\n",
       "      <td>340266</td>\n",
       "      <td>53</td>\n",
       "      <td>среднее</td>\n",
       "      <td>1</td>\n",
       "      <td>гражданский брак</td>\n",
       "      <td>1</td>\n",
       "      <td>F</td>\n",
       "      <td>пенсионер</td>\n",
       "      <td>0</td>\n",
       "      <td>158616</td>\n",
       "      <td>сыграть свадьбу</td>\n",
       "      <td>свадьба</td>\n",
       "      <td>выше среднего</td>\n",
       "    </tr>\n",
       "  </tbody>\n",
       "</table>\n",
       "</div>"
      ],
      "text/plain": [
       "   children_numbers  days_employed  age education_level  education_id  \\\n",
       "0                 1           8437   42          высшее             0   \n",
       "1                 1           4024   36         среднее             1   \n",
       "2                 0           5623   33         среднее             1   \n",
       "3                 3           4124   32         среднее             1   \n",
       "4                 0         340266   53         среднее             1   \n",
       "\n",
       "      family_status  family_status_id gender employment_type  debt_case  \\\n",
       "0   женат / замужем                 0      F       сотрудник          0   \n",
       "1   женат / замужем                 0      F       сотрудник          0   \n",
       "2   женат / замужем                 0      M       сотрудник          0   \n",
       "3   женат / замужем                 0      M       сотрудник          0   \n",
       "4  гражданский брак                 1      F       пенсионер          0   \n",
       "\n",
       "   monthly_income                     purpose  purpose_main   income_level  \n",
       "0          253875               покупка жилья  недвижимость        высокий  \n",
       "1          112080     приобретение автомобиля    автомобиль  выше среднего  \n",
       "2          145885               покупка жилья  недвижимость  выше среднего  \n",
       "3          267628  дополнительное образование   образование        высокий  \n",
       "4          158616             сыграть свадьбу       свадьба  выше среднего  "
      ]
     },
     "execution_count": 19,
     "metadata": {},
     "output_type": "execute_result"
    }
   ],
   "source": [
    "# создаем функцию income_category(), которая будет проверять на вход значения из столбца 'monthly_income',\n",
    "# и в зависимости от выполнения подходящего условия будет возвращать название 1-й из 4-х категорий дохода\n",
    "\n",
    "def income_category(monthly_income):\n",
    "    if monthly_income <= 50000:\n",
    "        return 'низкий'\n",
    "    elif 50001 <= monthly_income <= 100000:\n",
    "        return 'средний'\n",
    "    elif 100001 <= monthly_income <= 200000:\n",
    "        return 'выше среднего'\n",
    "    elif monthly_income >= 200001:\n",
    "        return 'высокий'\n",
    "    \n",
    "# методом 'apply' применим созданную функцию к столбцу 'monthly_income' и полученные значения \n",
    "# будут занесены в новый столбец таблицы 'income_level'\n",
    "data['income_level'] = data['monthly_income'].apply(income_category)\n",
    "\n",
    "# проверим результат\n",
    "data.head()"
   ]
  },
  {
   "cell_type": "markdown",
   "metadata": {},
   "source": [
    "<div style=\"border:solid black 2px; padding: 20px\">\n",
    "На данном этапе мы произвели нужные нам для следующего этапа виды категоризации:\n",
    "    \n",
    "- по целям кредита\n",
    "- по уровню дохода\n",
    "    \n",
    "Категоризацию по кол-ву детей производить не было необходимости, т.к. у нас всего 6 возможных вариантов количества детей - 0, 1, 2, 3, 4, 5 - уже своего рода категории. Тоже самое относится и к семейным статусам, категоризация уже имеет место.\n",
    "</div>"
   ]
  },
  {
   "cell_type": "markdown",
   "metadata": {},
   "source": [
    "## Ответы на вопросы исследования"
   ]
  },
  {
   "cell_type": "markdown",
   "metadata": {},
   "source": [
    "Для ответа на вопросы исследования нам необходимо определить **средний показатель случаев задолженности** относительно той группы/категории, которую мы будем рассматривать. А так же для наглядности в дополнение создадим общую **таблицу-рейтинг** с количеством должников и добросовестных клиентов и с %-долей от общего количества всех исследуемых."
   ]
  },
  {
   "cell_type": "code",
   "execution_count": 20,
   "metadata": {},
   "outputs": [
    {
     "data": {
      "text/plain": [
       "0    19713\n",
       "1     1741\n",
       "Name: debt_case, dtype: int64"
      ]
     },
     "execution_count": 20,
     "metadata": {},
     "output_type": "execute_result"
    }
   ],
   "source": [
    "# проверим для начала какие значения есть в столбце о наличии задолженности:\n",
    "data['debt_case'].value_counts()"
   ]
  },
  {
   "cell_type": "markdown",
   "metadata": {},
   "source": [
    "Столбец `debt_case` заполнен 0 и 1: сигнализирует либо об отсутствии случаев задолженности (0), либо наоборот о нарушении сроков выплат (1). Для составления **рейтинга о должниках** удобно будет суммировать эти (1) в столбце `debt_case`.\n",
    "**Для добросовестных плательщиков** для наглядности мы создадим новый столбец так же заполненный (1) при помощи функции: она проверит (0) на вход и, если клиент добросовестно выплачивает кредиты - создаст новый столбец-индикатор `responsible_rating`, заполненный единицами."
   ]
  },
  {
   "cell_type": "code",
   "execution_count": 21,
   "metadata": {
    "scrolled": false
   },
   "outputs": [
    {
     "data": {
      "text/html": [
       "<div>\n",
       "<style scoped>\n",
       "    .dataframe tbody tr th:only-of-type {\n",
       "        vertical-align: middle;\n",
       "    }\n",
       "\n",
       "    .dataframe tbody tr th {\n",
       "        vertical-align: top;\n",
       "    }\n",
       "\n",
       "    .dataframe thead th {\n",
       "        text-align: right;\n",
       "    }\n",
       "</style>\n",
       "<table border=\"1\" class=\"dataframe\">\n",
       "  <thead>\n",
       "    <tr style=\"text-align: right;\">\n",
       "      <th></th>\n",
       "      <th>children_numbers</th>\n",
       "      <th>days_employed</th>\n",
       "      <th>age</th>\n",
       "      <th>education_level</th>\n",
       "      <th>education_id</th>\n",
       "      <th>family_status</th>\n",
       "      <th>family_status_id</th>\n",
       "      <th>gender</th>\n",
       "      <th>employment_type</th>\n",
       "      <th>debt_case</th>\n",
       "      <th>monthly_income</th>\n",
       "      <th>purpose</th>\n",
       "      <th>purpose_main</th>\n",
       "      <th>income_level</th>\n",
       "      <th>responsible_rating</th>\n",
       "    </tr>\n",
       "  </thead>\n",
       "  <tbody>\n",
       "    <tr>\n",
       "      <td>0</td>\n",
       "      <td>1</td>\n",
       "      <td>8437</td>\n",
       "      <td>42</td>\n",
       "      <td>высшее</td>\n",
       "      <td>0</td>\n",
       "      <td>женат / замужем</td>\n",
       "      <td>0</td>\n",
       "      <td>F</td>\n",
       "      <td>сотрудник</td>\n",
       "      <td>0</td>\n",
       "      <td>253875</td>\n",
       "      <td>покупка жилья</td>\n",
       "      <td>недвижимость</td>\n",
       "      <td>высокий</td>\n",
       "      <td>1</td>\n",
       "    </tr>\n",
       "    <tr>\n",
       "      <td>1</td>\n",
       "      <td>1</td>\n",
       "      <td>4024</td>\n",
       "      <td>36</td>\n",
       "      <td>среднее</td>\n",
       "      <td>1</td>\n",
       "      <td>женат / замужем</td>\n",
       "      <td>0</td>\n",
       "      <td>F</td>\n",
       "      <td>сотрудник</td>\n",
       "      <td>0</td>\n",
       "      <td>112080</td>\n",
       "      <td>приобретение автомобиля</td>\n",
       "      <td>автомобиль</td>\n",
       "      <td>выше среднего</td>\n",
       "      <td>1</td>\n",
       "    </tr>\n",
       "  </tbody>\n",
       "</table>\n",
       "</div>"
      ],
      "text/plain": [
       "   children_numbers  days_employed  age education_level  education_id  \\\n",
       "0                 1           8437   42          высшее             0   \n",
       "1                 1           4024   36         среднее             1   \n",
       "\n",
       "     family_status  family_status_id gender employment_type  debt_case  \\\n",
       "0  женат / замужем                 0      F       сотрудник          0   \n",
       "1  женат / замужем                 0      F       сотрудник          0   \n",
       "\n",
       "   monthly_income                  purpose  purpose_main   income_level  \\\n",
       "0          253875            покупка жилья  недвижимость        высокий   \n",
       "1          112080  приобретение автомобиля    автомобиль  выше среднего   \n",
       "\n",
       "   responsible_rating  \n",
       "0                   1  \n",
       "1                   1  "
      ]
     },
     "execution_count": 21,
     "metadata": {},
     "output_type": "execute_result"
    }
   ],
   "source": [
    "# создадим функцию 'no_debts', которая создаст новый столбец-индикатор 'responsible_rating', заполненный единицами\n",
    "# на вход проверяется столбец 'debt_case' и при наличии 0, функция возвращает 1 \n",
    "def no_debts(debt_case):\n",
    "    if debt_case == 0:\n",
    "        return 1\n",
    "    else:\n",
    "        return 0\n",
    "    \n",
    "# методом 'apply' применим созданную функцию к столбцу 'debt_case' и возвращенные значения будут занесены в\n",
    "# столбец 'responsible_rating' \n",
    "data['responsible_rating'] = data['debt_case'].apply(no_debts)\n",
    "data.head(2)"
   ]
  },
  {
   "cell_type": "markdown",
   "metadata": {},
   "source": [
    "**Для подсчета среднего показателя случаев задолженности** среди выбранной категории (аргумент 'category') создадим функцию  `dependence(category)`. Группируем по категории и подсчитываем среднее значение случаев задолженности методом `mean()`."
   ]
  },
  {
   "cell_type": "code",
   "execution_count": 22,
   "metadata": {},
   "outputs": [],
   "source": [
    "def dependence(category):\n",
    "    return data.groupby(category)['debt_case'].mean().sort_values(ascending = False)"
   ]
  },
  {
   "cell_type": "markdown",
   "metadata": {},
   "source": [
    "А так же создадим функцию `rating_summary(subject)` , которая в зависимости от выбранной исследуемой категории `category` составит нам таблицу-рейтинг с общим количеством следующих параметров: случаев просрочки `debt_case`, случаев добросовестных своевременных платежей `responsible_rating` и долей в '%' от общего числа всех исследуемых (21454 клиентов)."
   ]
  },
  {
   "cell_type": "code",
   "execution_count": 23,
   "metadata": {},
   "outputs": [],
   "source": [
    "# объявляем функцию, группируем по нужной нам категории 'category' и в метод agg() передадим словари с ключами \n",
    "# 'debt_case' и 'responsible_rating', которые будем суммировать\n",
    "def rating_summary(category):\n",
    "    summary1 = data.groupby(category).agg({'debt_case':'sum'})\n",
    "    summary1['total_clients_%'] = (summary1['debt_case'] / 21454) * 100\n",
    "    summary2 = data.groupby(category).agg({'responsible_rating':'sum'})\n",
    "    summary2['total_clients_%'] = (summary2['responsible_rating'] / 21454) * 100\n",
    "    \n",
    "# методом 'merge()' объединяем обе таблицы 'summary1' и 'summary2'\n",
    "    total_summary = summary1.merge(summary2, on=category, how='left')\n",
    "    return total_summary.sort_values(by = 'responsible_rating', ascending = False)"
   ]
  },
  {
   "cell_type": "markdown",
   "metadata": {},
   "source": [
    "### Зависимость между наличием детей и возвратом кредита в срок"
   ]
  },
  {
   "cell_type": "code",
   "execution_count": 24,
   "metadata": {
    "scrolled": true
   },
   "outputs": [
    {
     "data": {
      "text/html": [
       "<div>\n",
       "<style scoped>\n",
       "    .dataframe tbody tr th:only-of-type {\n",
       "        vertical-align: middle;\n",
       "    }\n",
       "\n",
       "    .dataframe tbody tr th {\n",
       "        vertical-align: top;\n",
       "    }\n",
       "\n",
       "    .dataframe thead th {\n",
       "        text-align: right;\n",
       "    }\n",
       "</style>\n",
       "<table border=\"1\" class=\"dataframe\">\n",
       "  <thead>\n",
       "    <tr style=\"text-align: right;\">\n",
       "      <th></th>\n",
       "      <th>debt_case</th>\n",
       "      <th>total_clients_%_x</th>\n",
       "      <th>responsible_rating</th>\n",
       "      <th>total_clients_%_y</th>\n",
       "    </tr>\n",
       "    <tr>\n",
       "      <th>children_numbers</th>\n",
       "      <th></th>\n",
       "      <th></th>\n",
       "      <th></th>\n",
       "      <th></th>\n",
       "    </tr>\n",
       "  </thead>\n",
       "  <tbody>\n",
       "    <tr>\n",
       "      <td>0</td>\n",
       "      <td>1063</td>\n",
       "      <td>4.954787</td>\n",
       "      <td>13028</td>\n",
       "      <td>60.725273</td>\n",
       "    </tr>\n",
       "    <tr>\n",
       "      <td>1</td>\n",
       "      <td>445</td>\n",
       "      <td>2.074205</td>\n",
       "      <td>4410</td>\n",
       "      <td>20.555607</td>\n",
       "    </tr>\n",
       "    <tr>\n",
       "      <td>2</td>\n",
       "      <td>202</td>\n",
       "      <td>0.941549</td>\n",
       "      <td>1926</td>\n",
       "      <td>8.977347</td>\n",
       "    </tr>\n",
       "    <tr>\n",
       "      <td>3</td>\n",
       "      <td>27</td>\n",
       "      <td>0.125851</td>\n",
       "      <td>303</td>\n",
       "      <td>1.412324</td>\n",
       "    </tr>\n",
       "    <tr>\n",
       "      <td>4</td>\n",
       "      <td>4</td>\n",
       "      <td>0.018645</td>\n",
       "      <td>37</td>\n",
       "      <td>0.172462</td>\n",
       "    </tr>\n",
       "    <tr>\n",
       "      <td>5</td>\n",
       "      <td>0</td>\n",
       "      <td>0.000000</td>\n",
       "      <td>9</td>\n",
       "      <td>0.041950</td>\n",
       "    </tr>\n",
       "  </tbody>\n",
       "</table>\n",
       "</div>"
      ],
      "text/plain": [
       "                  debt_case  total_clients_%_x  responsible_rating  \\\n",
       "children_numbers                                                     \n",
       "0                      1063           4.954787               13028   \n",
       "1                       445           2.074205                4410   \n",
       "2                       202           0.941549                1926   \n",
       "3                        27           0.125851                 303   \n",
       "4                         4           0.018645                  37   \n",
       "5                         0           0.000000                   9   \n",
       "\n",
       "                  total_clients_%_y  \n",
       "children_numbers                     \n",
       "0                         60.725273  \n",
       "1                         20.555607  \n",
       "2                          8.977347  \n",
       "3                          1.412324  \n",
       "4                          0.172462  \n",
       "5                          0.041950  "
      ]
     },
     "execution_count": 24,
     "metadata": {},
     "output_type": "execute_result"
    }
   ],
   "source": [
    "rating_summary('children_numbers')"
   ]
  },
  {
   "cell_type": "code",
   "execution_count": 25,
   "metadata": {},
   "outputs": [
    {
     "data": {
      "text/plain": [
       "children_numbers\n",
       "4    0.097561\n",
       "2    0.094925\n",
       "1    0.091658\n",
       "3    0.081818\n",
       "0    0.075438\n",
       "5    0.000000\n",
       "Name: debt_case, dtype: float64"
      ]
     },
     "execution_count": 25,
     "metadata": {},
     "output_type": "execute_result"
    }
   ],
   "source": [
    "dependence('children_numbers')"
   ]
  },
  {
   "cell_type": "markdown",
   "metadata": {},
   "source": [
    "<div style=\"border:solid black 2px; padding: 20px\">\n",
    "Зависимость от количества детей следующая: \n",
    "\n",
    "1. Чем больше детей у клиента, тем сильнее риск невыплаты (не своевременной выплаты) кредита.\n",
    "2. Клиенты, имеющие 4 детей сильнее всего подвержены риску невыплаты (не своевременной выплаты) кредита.\n",
    "3. Клиенты, не имеющие детей - менее всего подвержены риску невыплаты (не своевременной выплаты) кредита.\n",
    "    \n",
    "Так же стоит отметить, что клиенты имеющие 2 или более детей - берут кредиты реже, чем клиенты не имеющие детей или имеющие 1 ребенка.\n",
    "    \n",
    "</div>"
   ]
  },
  {
   "cell_type": "markdown",
   "metadata": {},
   "source": [
    "### Зависимость между семейным положением и возвратом кредита в срок"
   ]
  },
  {
   "cell_type": "code",
   "execution_count": 26,
   "metadata": {},
   "outputs": [
    {
     "data": {
      "text/html": [
       "<div>\n",
       "<style scoped>\n",
       "    .dataframe tbody tr th:only-of-type {\n",
       "        vertical-align: middle;\n",
       "    }\n",
       "\n",
       "    .dataframe tbody tr th {\n",
       "        vertical-align: top;\n",
       "    }\n",
       "\n",
       "    .dataframe thead th {\n",
       "        text-align: right;\n",
       "    }\n",
       "</style>\n",
       "<table border=\"1\" class=\"dataframe\">\n",
       "  <thead>\n",
       "    <tr style=\"text-align: right;\">\n",
       "      <th></th>\n",
       "      <th>debt_case</th>\n",
       "      <th>total_clients_%_x</th>\n",
       "      <th>responsible_rating</th>\n",
       "      <th>total_clients_%_y</th>\n",
       "    </tr>\n",
       "    <tr>\n",
       "      <th>family_status</th>\n",
       "      <th></th>\n",
       "      <th></th>\n",
       "      <th></th>\n",
       "      <th></th>\n",
       "    </tr>\n",
       "  </thead>\n",
       "  <tbody>\n",
       "    <tr>\n",
       "      <td>женат / замужем</td>\n",
       "      <td>931</td>\n",
       "      <td>4.339517</td>\n",
       "      <td>11408</td>\n",
       "      <td>53.174233</td>\n",
       "    </tr>\n",
       "    <tr>\n",
       "      <td>гражданский брак</td>\n",
       "      <td>388</td>\n",
       "      <td>1.808521</td>\n",
       "      <td>3763</td>\n",
       "      <td>17.539853</td>\n",
       "    </tr>\n",
       "    <tr>\n",
       "      <td>Не женат / не замужем</td>\n",
       "      <td>274</td>\n",
       "      <td>1.277151</td>\n",
       "      <td>2536</td>\n",
       "      <td>11.820640</td>\n",
       "    </tr>\n",
       "    <tr>\n",
       "      <td>в разводе</td>\n",
       "      <td>85</td>\n",
       "      <td>0.396197</td>\n",
       "      <td>1110</td>\n",
       "      <td>5.173860</td>\n",
       "    </tr>\n",
       "    <tr>\n",
       "      <td>вдовец / вдова</td>\n",
       "      <td>63</td>\n",
       "      <td>0.293652</td>\n",
       "      <td>896</td>\n",
       "      <td>4.176377</td>\n",
       "    </tr>\n",
       "  </tbody>\n",
       "</table>\n",
       "</div>"
      ],
      "text/plain": [
       "                       debt_case  total_clients_%_x  responsible_rating  \\\n",
       "family_status                                                             \n",
       "женат / замужем              931           4.339517               11408   \n",
       "гражданский брак             388           1.808521                3763   \n",
       "Не женат / не замужем        274           1.277151                2536   \n",
       "в разводе                     85           0.396197                1110   \n",
       "вдовец / вдова                63           0.293652                 896   \n",
       "\n",
       "                       total_clients_%_y  \n",
       "family_status                             \n",
       "женат / замужем                53.174233  \n",
       "гражданский брак               17.539853  \n",
       "Не женат / не замужем          11.820640  \n",
       "в разводе                       5.173860  \n",
       "вдовец / вдова                  4.176377  "
      ]
     },
     "execution_count": 26,
     "metadata": {},
     "output_type": "execute_result"
    }
   ],
   "source": [
    "rating_summary('family_status')"
   ]
  },
  {
   "cell_type": "code",
   "execution_count": 27,
   "metadata": {},
   "outputs": [
    {
     "data": {
      "text/plain": [
       "family_status\n",
       "Не женат / не замужем    0.097509\n",
       "гражданский брак         0.093471\n",
       "женат / замужем          0.075452\n",
       "в разводе                0.071130\n",
       "вдовец / вдова           0.065693\n",
       "Name: debt_case, dtype: float64"
      ]
     },
     "execution_count": 27,
     "metadata": {},
     "output_type": "execute_result"
    }
   ],
   "source": [
    "dependence('family_status')"
   ]
  },
  {
   "cell_type": "markdown",
   "metadata": {},
   "source": [
    "<div style=\"border:solid black 2px; padding: 20px\">\n",
    "Зависимость от семейного статуса следующая:\n",
    "\n",
    "1. Клиенты, которые \"не женаты/ не замужем\", а так же те, кто проживает совместно, но не оформил отношения официально (\"гражданский брак\") - сильнее всего подвержены риску невыплаты (не своевременной выплаты) кредита.\n",
    "2. Клиенты, которые в статусе \"в разводе\" или \"вдовец/ вдова\" - менее всего подвержены риску невыплаты (не своевременной выплаты) кредита.\n",
    "    \n",
    "Стоит отметить, что клиенты, которые состоят либо в официальных отношениях \"женат/ замужем\", либо в \"гражданском браке\" чаще остальных берут кредиты.\n",
    "И меньше остальных берут кредиты клиенты в статусе \"в разводе\" или \"вдовец/ вдова\".\n",
    "</div>"
   ]
  },
  {
   "cell_type": "markdown",
   "metadata": {},
   "source": [
    "### Зависимость между уровнем дохода и возвратом кредита в срок\n"
   ]
  },
  {
   "cell_type": "code",
   "execution_count": 28,
   "metadata": {},
   "outputs": [
    {
     "data": {
      "text/html": [
       "<div>\n",
       "<style scoped>\n",
       "    .dataframe tbody tr th:only-of-type {\n",
       "        vertical-align: middle;\n",
       "    }\n",
       "\n",
       "    .dataframe tbody tr th {\n",
       "        vertical-align: top;\n",
       "    }\n",
       "\n",
       "    .dataframe thead th {\n",
       "        text-align: right;\n",
       "    }\n",
       "</style>\n",
       "<table border=\"1\" class=\"dataframe\">\n",
       "  <thead>\n",
       "    <tr style=\"text-align: right;\">\n",
       "      <th></th>\n",
       "      <th>debt_case</th>\n",
       "      <th>total_clients_%_x</th>\n",
       "      <th>responsible_rating</th>\n",
       "      <th>total_clients_%_y</th>\n",
       "    </tr>\n",
       "    <tr>\n",
       "      <th>income_level</th>\n",
       "      <th></th>\n",
       "      <th></th>\n",
       "      <th></th>\n",
       "      <th></th>\n",
       "    </tr>\n",
       "  </thead>\n",
       "  <tbody>\n",
       "    <tr>\n",
       "      <td>выше среднего</td>\n",
       "      <td>1029</td>\n",
       "      <td>4.796308</td>\n",
       "      <td>10896</td>\n",
       "      <td>50.787732</td>\n",
       "    </tr>\n",
       "    <tr>\n",
       "      <td>высокий</td>\n",
       "      <td>358</td>\n",
       "      <td>1.668686</td>\n",
       "      <td>4708</td>\n",
       "      <td>21.944626</td>\n",
       "    </tr>\n",
       "    <tr>\n",
       "      <td>средний</td>\n",
       "      <td>331</td>\n",
       "      <td>1.542836</td>\n",
       "      <td>3760</td>\n",
       "      <td>17.525869</td>\n",
       "    </tr>\n",
       "    <tr>\n",
       "      <td>низкий</td>\n",
       "      <td>23</td>\n",
       "      <td>0.107206</td>\n",
       "      <td>349</td>\n",
       "      <td>1.626736</td>\n",
       "    </tr>\n",
       "  </tbody>\n",
       "</table>\n",
       "</div>"
      ],
      "text/plain": [
       "               debt_case  total_clients_%_x  responsible_rating  \\\n",
       "income_level                                                      \n",
       "выше среднего       1029           4.796308               10896   \n",
       "высокий              358           1.668686                4708   \n",
       "средний              331           1.542836                3760   \n",
       "низкий                23           0.107206                 349   \n",
       "\n",
       "               total_clients_%_y  \n",
       "income_level                      \n",
       "выше среднего          50.787732  \n",
       "высокий                21.944626  \n",
       "средний                17.525869  \n",
       "низкий                  1.626736  "
      ]
     },
     "execution_count": 28,
     "metadata": {},
     "output_type": "execute_result"
    }
   ],
   "source": [
    "rating_summary('income_level')"
   ]
  },
  {
   "cell_type": "code",
   "execution_count": 29,
   "metadata": {},
   "outputs": [
    {
     "data": {
      "text/plain": [
       "income_level\n",
       "выше среднего    0.086289\n",
       "средний          0.080909\n",
       "высокий          0.070667\n",
       "низкий           0.061828\n",
       "Name: debt_case, dtype: float64"
      ]
     },
     "execution_count": 29,
     "metadata": {},
     "output_type": "execute_result"
    }
   ],
   "source": [
    "dependence('income_level')"
   ]
  },
  {
   "cell_type": "markdown",
   "metadata": {},
   "source": [
    "<div style=\"border:solid black 2px; padding: 20px\">\n",
    "Зависимость от уровня дохода следующая:\n",
    "\n",
    "1. Клиенты с ежемесячным доходом \"выше среднего\" (от 100 001 р. до 200 000 руб.) сильнее остальных подвержены  риску невыплаты (не своевременной выплаты) кредита. Но вместе с тем - это та категория, которая больше остальных представлена в заемщиках.\n",
    "2. Клиенты с \"низким\" ежемесячным уровнем дохода (менее 50 000 р.) подвержены риску меньше всех. Здесь так же стоит добавить, что таких клиентов всего 1.7% от общего числа исследуемых клиентов. И поэтому можно сказать, что это клиенты ответственные, хорошо оценивающие свои силы в условиях низкого дохода.\n",
    "    \n",
    "</div>"
   ]
  },
  {
   "cell_type": "markdown",
   "metadata": {},
   "source": [
    "### Влияние целей кредита на его возврат в срок"
   ]
  },
  {
   "cell_type": "code",
   "execution_count": 30,
   "metadata": {},
   "outputs": [
    {
     "data": {
      "text/html": [
       "<div>\n",
       "<style scoped>\n",
       "    .dataframe tbody tr th:only-of-type {\n",
       "        vertical-align: middle;\n",
       "    }\n",
       "\n",
       "    .dataframe tbody tr th {\n",
       "        vertical-align: top;\n",
       "    }\n",
       "\n",
       "    .dataframe thead th {\n",
       "        text-align: right;\n",
       "    }\n",
       "</style>\n",
       "<table border=\"1\" class=\"dataframe\">\n",
       "  <thead>\n",
       "    <tr style=\"text-align: right;\">\n",
       "      <th></th>\n",
       "      <th>debt_case</th>\n",
       "      <th>total_clients_%_x</th>\n",
       "      <th>responsible_rating</th>\n",
       "      <th>total_clients_%_y</th>\n",
       "    </tr>\n",
       "    <tr>\n",
       "      <th>purpose_main</th>\n",
       "      <th></th>\n",
       "      <th></th>\n",
       "      <th></th>\n",
       "      <th></th>\n",
       "    </tr>\n",
       "  </thead>\n",
       "  <tbody>\n",
       "    <tr>\n",
       "      <td>недвижимость</td>\n",
       "      <td>782</td>\n",
       "      <td>3.645008</td>\n",
       "      <td>10029</td>\n",
       "      <td>46.746527</td>\n",
       "    </tr>\n",
       "    <tr>\n",
       "      <td>автомобиль</td>\n",
       "      <td>403</td>\n",
       "      <td>1.878438</td>\n",
       "      <td>3903</td>\n",
       "      <td>18.192412</td>\n",
       "    </tr>\n",
       "    <tr>\n",
       "      <td>образование</td>\n",
       "      <td>370</td>\n",
       "      <td>1.724620</td>\n",
       "      <td>3643</td>\n",
       "      <td>16.980516</td>\n",
       "    </tr>\n",
       "    <tr>\n",
       "      <td>свадьба</td>\n",
       "      <td>186</td>\n",
       "      <td>0.866971</td>\n",
       "      <td>2138</td>\n",
       "      <td>9.965508</td>\n",
       "    </tr>\n",
       "  </tbody>\n",
       "</table>\n",
       "</div>"
      ],
      "text/plain": [
       "              debt_case  total_clients_%_x  responsible_rating  \\\n",
       "purpose_main                                                     \n",
       "недвижимость        782           3.645008               10029   \n",
       "автомобиль          403           1.878438                3903   \n",
       "образование         370           1.724620                3643   \n",
       "свадьба             186           0.866971                2138   \n",
       "\n",
       "              total_clients_%_y  \n",
       "purpose_main                     \n",
       "недвижимость          46.746527  \n",
       "автомобиль            18.192412  \n",
       "образование           16.980516  \n",
       "свадьба                9.965508  "
      ]
     },
     "execution_count": 30,
     "metadata": {},
     "output_type": "execute_result"
    }
   ],
   "source": [
    "rating_summary('purpose_main')"
   ]
  },
  {
   "cell_type": "code",
   "execution_count": 31,
   "metadata": {},
   "outputs": [
    {
     "data": {
      "text/plain": [
       "purpose_main\n",
       "автомобиль      0.093590\n",
       "образование     0.092200\n",
       "свадьба         0.080034\n",
       "недвижимость    0.072334\n",
       "Name: debt_case, dtype: float64"
      ]
     },
     "execution_count": 31,
     "metadata": {},
     "output_type": "execute_result"
    }
   ],
   "source": [
    "dependence('purpose_main')"
   ]
  },
  {
   "cell_type": "markdown",
   "metadata": {},
   "source": [
    "<div style=\"border:solid black 2px; padding: 20px\">\n",
    "Зависимость от целей кредита следующая:\n",
    "    \n",
    "1. Клиенты, цели которых связаны с \"автомобилем\" сильнее остальных подвержены  риску невыплаты (не своевременной выплаты) кредита. Следом с похожим показателем можно выделить категорию целей \"образование\".\n",
    "2. Клиенты, цели которых связаны с \"недвижимостью\" подвержены риску невыплат менее всех. Так же стоит отметить, что 50.3% всех исследуемых берут кредит именно под \"недвижимость\" и это дает возможность утверждать, что категорию целей кредита \"недвижимость\" банк может выделить как \"безопасную\".\n",
    "    \n",
    "</div>"
   ]
  },
  {
   "cell_type": "markdown",
   "metadata": {},
   "source": [
    "## Общий вывод"
   ]
  },
  {
   "cell_type": "markdown",
   "metadata": {},
   "source": [
    "<div style=\"border: ridge black 3px; padding: 25px\">\n",
    "    \n",
    "**Выявлены самые \"безопасные\" категории клиентов, менее предрасположенные к невыплатам:**\n",
    "    \n",
    "1. Клиенты в статусе \"женат/замужем\".\n",
    "2. Клиенты без детей.\n",
    "3. Клиенты с доходом менее 50 000 руб.\n",
    "4. Клиенты, берущие кредит на \"недвижимость\".\n",
    "    \n",
    "**\"Небезопасные\" категории клиентов, на которые следует обратить внимание:**\n",
    "    \n",
    "1. Клиенты  не имеющие отношений или официально оформленных отношений со статусами: \"не женат/не замужем\" или \"гражданский брак\".\n",
    "2. Клиенты с 2 или 4 детьми.\n",
    "3. Клиенты с ежемесячным доходом \"выше среднего\" (от 100 001 р. до 200 000 руб.)\n",
    "4. Клиенты, берущие кредит на \"автомобиль\" или \"образование\".\n",
    "    \n",
    "</div>"
   ]
  },
  {
   "cell_type": "markdown",
   "metadata": {},
   "source": [
    "### Рекомендации для технических специалистов"
   ]
  },
  {
   "cell_type": "markdown",
   "metadata": {},
   "source": [
    "<div style=\"border: ridge black 2px; padding: 25px\">\n",
    "    \n",
    "**В ходе предобработки данных были выявлены неточности выгрузки, исходя из которых мы рекомендуем поставщикам данных/разработчикам банка обратить внимание на следующие моменты:** \n",
    "    \n",
    "1. Привести в единый формат заполнение колонки об 'уровне образования' (обнаружен разный регистр, скорее всего сейчас заполнение происходит вручную). \n",
    "2. Привести в единый формат заполнение колонок 'количество детей' и 'возраст' (скорее всего сейчас заполнение происходит вручную).\n",
    "3. Проверить текущую систему сбора информации от клиентов о 'стаже работы' и 'ежемесячной зарплате' как обязательную при первоначальном сборе (были обнаружены одновременные пропуски в обоих колонках). На данном этапе похоже, что регламент сбора информации позволяет пропускать эти значения сотрудникам банка, либо необходимо проверить систему выгрузки данных на ошибки.\n",
    "4. Проверить корректность ввода/выгрузки значений в колонке о 'количестве дней стажа' (было обнаружено 3670 строк с огромными, несоответствующими реальности значениями), а так же обратить внимание на выгружающиеся знаки 'минус' в начале значений и найти причину.\n",
    "    \n",
    "</div>"
   ]
  },
  {
   "cell_type": "code",
   "execution_count": null,
   "metadata": {},
   "outputs": [],
   "source": []
  }
 ],
 "metadata": {
  "ExecuteTimeLog": [
   {
    "duration": 873,
    "start_time": "2021-06-25T12:59:21.498Z"
   },
   {
    "duration": 36,
    "start_time": "2021-06-25T12:59:22.374Z"
   },
   {
    "duration": 38,
    "start_time": "2021-06-25T12:59:22.413Z"
   },
   {
    "duration": 13,
    "start_time": "2021-06-25T12:59:22.454Z"
   },
   {
    "duration": 13,
    "start_time": "2021-06-25T12:59:22.470Z"
   },
   {
    "duration": 52,
    "start_time": "2021-06-25T12:59:22.486Z"
   },
   {
    "duration": 25,
    "start_time": "2021-06-25T12:59:22.540Z"
   },
   {
    "duration": 15,
    "start_time": "2021-06-25T12:59:22.569Z"
   },
   {
    "duration": 53,
    "start_time": "2021-06-25T12:59:22.587Z"
   },
   {
    "duration": 13,
    "start_time": "2021-06-25T12:59:22.643Z"
   },
   {
    "duration": 18,
    "start_time": "2021-06-25T12:59:22.659Z"
   },
   {
    "duration": 47,
    "start_time": "2021-06-25T12:59:22.679Z"
   },
   {
    "duration": 18,
    "start_time": "2021-06-25T12:59:22.730Z"
   },
   {
    "duration": 19,
    "start_time": "2021-06-25T12:59:22.751Z"
   },
   {
    "duration": 52,
    "start_time": "2021-06-25T12:59:22.773Z"
   },
   {
    "duration": 46,
    "start_time": "2021-06-25T12:59:22.830Z"
   },
   {
    "duration": 1067,
    "start_time": "2021-06-25T12:59:22.878Z"
   },
   {
    "duration": 4008,
    "start_time": "2021-06-25T12:59:23.948Z"
   },
   {
    "duration": 37,
    "start_time": "2021-06-25T12:59:27.959Z"
   },
   {
    "duration": 13,
    "start_time": "2021-06-25T12:59:28.026Z"
   },
   {
    "duration": 31,
    "start_time": "2021-06-25T12:59:28.043Z"
   },
   {
    "duration": 5,
    "start_time": "2021-06-25T12:59:28.077Z"
   },
   {
    "duration": 40,
    "start_time": "2021-06-25T12:59:28.089Z"
   },
   {
    "duration": 47,
    "start_time": "2021-06-25T12:59:28.133Z"
   },
   {
    "duration": 9,
    "start_time": "2021-06-25T12:59:28.183Z"
   },
   {
    "duration": 58,
    "start_time": "2021-06-25T12:59:28.194Z"
   },
   {
    "duration": 12,
    "start_time": "2021-06-25T12:59:28.255Z"
   },
   {
    "duration": 67,
    "start_time": "2021-06-25T12:59:28.270Z"
   },
   {
    "duration": 11,
    "start_time": "2021-06-25T12:59:28.339Z"
   },
   {
    "duration": 34,
    "start_time": "2021-06-25T12:59:28.352Z"
   },
   {
    "duration": 43,
    "start_time": "2021-06-25T12:59:28.388Z"
   },
   {
    "duration": 25,
    "start_time": "2021-06-25T13:01:40.955Z"
   },
   {
    "duration": 950,
    "start_time": "2021-06-25T13:09:26.250Z"
   },
   {
    "duration": 33,
    "start_time": "2021-06-25T13:09:27.202Z"
   },
   {
    "duration": 15,
    "start_time": "2021-06-25T13:09:27.238Z"
   },
   {
    "duration": 13,
    "start_time": "2021-06-25T13:09:27.256Z"
   },
   {
    "duration": 21,
    "start_time": "2021-06-25T13:09:27.272Z"
   },
   {
    "duration": 21,
    "start_time": "2021-06-25T13:09:27.324Z"
   },
   {
    "duration": 33,
    "start_time": "2021-06-25T13:09:27.347Z"
   },
   {
    "duration": 14,
    "start_time": "2021-06-25T13:09:27.383Z"
   },
   {
    "duration": 38,
    "start_time": "2021-06-25T13:09:27.400Z"
   },
   {
    "duration": 13,
    "start_time": "2021-06-25T13:09:27.441Z"
   },
   {
    "duration": 18,
    "start_time": "2021-06-25T13:09:27.457Z"
   },
   {
    "duration": 52,
    "start_time": "2021-06-25T13:09:27.478Z"
   },
   {
    "duration": 15,
    "start_time": "2021-06-25T13:09:27.532Z"
   },
   {
    "duration": 22,
    "start_time": "2021-06-25T13:09:27.550Z"
   },
   {
    "duration": 63,
    "start_time": "2021-06-25T13:09:27.575Z"
   },
   {
    "duration": 47,
    "start_time": "2021-06-25T13:09:27.640Z"
   },
   {
    "duration": 952,
    "start_time": "2021-06-25T13:09:27.690Z"
   },
   {
    "duration": 3659,
    "start_time": "2021-06-25T13:09:28.645Z"
   },
   {
    "duration": 46,
    "start_time": "2021-06-25T13:09:32.306Z"
   },
   {
    "duration": 13,
    "start_time": "2021-06-25T13:09:32.355Z"
   },
   {
    "duration": 56,
    "start_time": "2021-06-25T13:09:32.371Z"
   },
   {
    "duration": 4,
    "start_time": "2021-06-25T13:09:32.430Z"
   },
   {
    "duration": 12,
    "start_time": "2021-06-25T13:09:32.439Z"
   },
   {
    "duration": 41,
    "start_time": "2021-06-25T13:09:32.454Z"
   },
   {
    "duration": 29,
    "start_time": "2021-06-25T13:09:32.497Z"
   },
   {
    "duration": 30,
    "start_time": "2021-06-25T13:09:32.528Z"
   },
   {
    "duration": 10,
    "start_time": "2021-06-25T13:09:32.561Z"
   },
   {
    "duration": 64,
    "start_time": "2021-06-25T13:09:32.573Z"
   },
   {
    "duration": 9,
    "start_time": "2021-06-25T13:09:32.640Z"
   },
   {
    "duration": 28,
    "start_time": "2021-06-25T13:09:32.652Z"
   },
   {
    "duration": 42,
    "start_time": "2021-06-25T13:09:32.682Z"
   },
   {
    "duration": 799,
    "start_time": "2021-06-25T13:18:45.072Z"
   },
   {
    "duration": 35,
    "start_time": "2021-06-25T13:18:45.874Z"
   },
   {
    "duration": 26,
    "start_time": "2021-06-25T13:18:45.912Z"
   },
   {
    "duration": 14,
    "start_time": "2021-06-25T13:18:45.941Z"
   },
   {
    "duration": 15,
    "start_time": "2021-06-25T13:18:45.958Z"
   },
   {
    "duration": 64,
    "start_time": "2021-06-25T13:18:45.976Z"
   },
   {
    "duration": 26,
    "start_time": "2021-06-25T13:18:46.043Z"
   },
   {
    "duration": 15,
    "start_time": "2021-06-25T13:18:46.074Z"
   },
   {
    "duration": 16,
    "start_time": "2021-06-25T13:18:46.126Z"
   },
   {
    "duration": 12,
    "start_time": "2021-06-25T13:18:46.145Z"
   },
   {
    "duration": 21,
    "start_time": "2021-06-25T13:18:46.159Z"
   },
   {
    "duration": 48,
    "start_time": "2021-06-25T13:18:46.183Z"
   },
   {
    "duration": 15,
    "start_time": "2021-06-25T13:18:46.233Z"
   },
   {
    "duration": 27,
    "start_time": "2021-06-25T13:18:46.251Z"
   },
   {
    "duration": 48,
    "start_time": "2021-06-25T13:18:46.280Z"
   },
   {
    "duration": 44,
    "start_time": "2021-06-25T13:18:46.330Z"
   },
   {
    "duration": 911,
    "start_time": "2021-06-25T13:18:46.376Z"
   },
   {
    "duration": 3438,
    "start_time": "2021-06-25T13:18:47.290Z"
   },
   {
    "duration": 31,
    "start_time": "2021-06-25T13:18:50.730Z"
   },
   {
    "duration": 20,
    "start_time": "2021-06-25T13:18:50.763Z"
   },
   {
    "duration": 46,
    "start_time": "2021-06-25T13:18:50.786Z"
   },
   {
    "duration": 4,
    "start_time": "2021-06-25T13:18:50.847Z"
   },
   {
    "duration": 13,
    "start_time": "2021-06-25T13:18:50.856Z"
   },
   {
    "duration": 33,
    "start_time": "2021-06-25T13:18:50.872Z"
   },
   {
    "duration": 23,
    "start_time": "2021-06-25T13:18:50.907Z"
   },
   {
    "duration": 28,
    "start_time": "2021-06-25T13:18:50.932Z"
   },
   {
    "duration": 10,
    "start_time": "2021-06-25T13:18:50.963Z"
   },
   {
    "duration": 60,
    "start_time": "2021-06-25T13:18:50.975Z"
   },
   {
    "duration": 10,
    "start_time": "2021-06-25T13:18:51.037Z"
   },
   {
    "duration": 26,
    "start_time": "2021-06-25T13:18:51.049Z"
   },
   {
    "duration": 10,
    "start_time": "2021-06-25T13:18:51.077Z"
   },
   {
    "duration": 820,
    "start_time": "2021-06-25T20:33:36.842Z"
   },
   {
    "duration": 48,
    "start_time": "2021-06-25T20:33:37.666Z"
   },
   {
    "duration": 15,
    "start_time": "2021-06-25T20:33:37.718Z"
   },
   {
    "duration": 15,
    "start_time": "2021-06-25T20:33:37.736Z"
   },
   {
    "duration": 57,
    "start_time": "2021-06-25T20:33:37.754Z"
   },
   {
    "duration": 19,
    "start_time": "2021-06-25T20:33:37.814Z"
   },
   {
    "duration": 28,
    "start_time": "2021-06-25T20:33:37.837Z"
   },
   {
    "duration": 46,
    "start_time": "2021-06-25T20:33:37.870Z"
   },
   {
    "duration": 20,
    "start_time": "2021-06-25T20:33:37.920Z"
   },
   {
    "duration": 15,
    "start_time": "2021-06-25T20:33:37.943Z"
   },
   {
    "duration": 56,
    "start_time": "2021-06-25T20:33:37.961Z"
   },
   {
    "duration": 14,
    "start_time": "2021-06-25T20:33:38.020Z"
   },
   {
    "duration": 33,
    "start_time": "2021-06-25T20:33:38.037Z"
   },
   {
    "duration": 46,
    "start_time": "2021-06-25T20:33:38.073Z"
   },
   {
    "duration": 26,
    "start_time": "2021-06-25T20:33:38.123Z"
   },
   {
    "duration": 75,
    "start_time": "2021-06-25T20:33:38.152Z"
   },
   {
    "duration": 950,
    "start_time": "2021-06-25T20:33:38.229Z"
   },
   {
    "duration": 3569,
    "start_time": "2021-06-25T20:33:39.183Z"
   },
   {
    "duration": 32,
    "start_time": "2021-06-25T20:33:42.754Z"
   },
   {
    "duration": 25,
    "start_time": "2021-06-25T20:33:42.788Z"
   },
   {
    "duration": 33,
    "start_time": "2021-06-25T20:33:42.816Z"
   },
   {
    "duration": 4,
    "start_time": "2021-06-25T20:33:42.851Z"
   },
   {
    "duration": 10,
    "start_time": "2021-06-25T20:33:42.860Z"
   },
   {
    "duration": 67,
    "start_time": "2021-06-25T20:33:42.873Z"
   },
   {
    "duration": 9,
    "start_time": "2021-06-25T20:33:42.942Z"
   },
   {
    "duration": 56,
    "start_time": "2021-06-25T20:33:42.953Z"
   },
   {
    "duration": 11,
    "start_time": "2021-06-25T20:33:43.011Z"
   },
   {
    "duration": 32,
    "start_time": "2021-06-25T20:33:43.025Z"
   },
   {
    "duration": 11,
    "start_time": "2021-06-25T20:33:43.059Z"
   },
   {
    "duration": 62,
    "start_time": "2021-06-25T20:33:43.072Z"
   },
   {
    "duration": 11,
    "start_time": "2021-06-25T20:33:43.137Z"
   },
   {
    "duration": 1484,
    "start_time": "2021-06-25T21:48:12.792Z"
   },
   {
    "duration": 1375,
    "start_time": "2021-06-25T21:48:17.997Z"
   },
   {
    "duration": 965,
    "start_time": "2021-06-25T21:48:37.844Z"
   },
   {
    "duration": 809,
    "start_time": "2021-06-25T21:49:12.660Z"
   },
   {
    "duration": 41,
    "start_time": "2021-06-25T21:49:13.472Z"
   },
   {
    "duration": 15,
    "start_time": "2021-06-25T21:49:13.516Z"
   },
   {
    "duration": 12,
    "start_time": "2021-06-25T21:49:13.534Z"
   },
   {
    "duration": 11,
    "start_time": "2021-06-25T21:49:13.549Z"
   },
   {
    "duration": 62,
    "start_time": "2021-06-25T21:49:13.563Z"
   },
   {
    "duration": 30,
    "start_time": "2021-06-25T21:49:13.627Z"
   },
   {
    "duration": 13,
    "start_time": "2021-06-25T21:49:13.661Z"
   },
   {
    "duration": 42,
    "start_time": "2021-06-25T21:49:13.677Z"
   },
   {
    "duration": 12,
    "start_time": "2021-06-25T21:49:13.722Z"
   },
   {
    "duration": 18,
    "start_time": "2021-06-25T21:49:13.736Z"
   },
   {
    "duration": 12,
    "start_time": "2021-06-25T21:49:13.756Z"
   },
   {
    "duration": 16,
    "start_time": "2021-06-25T21:49:13.810Z"
   },
   {
    "duration": 20,
    "start_time": "2021-06-25T21:49:13.828Z"
   },
   {
    "duration": 23,
    "start_time": "2021-06-25T21:49:13.850Z"
   },
   {
    "duration": 44,
    "start_time": "2021-06-25T21:49:13.908Z"
   },
   {
    "duration": 1047,
    "start_time": "2021-06-25T21:49:13.954Z"
   },
   {
    "duration": 3562,
    "start_time": "2021-06-25T21:49:15.008Z"
   },
   {
    "duration": 49,
    "start_time": "2021-06-25T21:49:18.573Z"
   },
   {
    "duration": 8,
    "start_time": "2021-06-25T21:49:18.624Z"
   },
   {
    "duration": 32,
    "start_time": "2021-06-25T21:49:18.634Z"
   },
   {
    "duration": 4,
    "start_time": "2021-06-25T21:49:18.668Z"
   },
   {
    "duration": 39,
    "start_time": "2021-06-25T21:49:18.676Z"
   },
   {
    "duration": 37,
    "start_time": "2021-06-25T21:49:18.718Z"
   },
   {
    "duration": 9,
    "start_time": "2021-06-25T21:49:18.757Z"
   },
   {
    "duration": 57,
    "start_time": "2021-06-25T21:49:18.768Z"
   },
   {
    "duration": 11,
    "start_time": "2021-06-25T21:49:18.827Z"
   },
   {
    "duration": 30,
    "start_time": "2021-06-25T21:49:18.840Z"
   },
   {
    "duration": 39,
    "start_time": "2021-06-25T21:49:18.872Z"
   },
   {
    "duration": 27,
    "start_time": "2021-06-25T21:49:18.914Z"
   },
   {
    "duration": 11,
    "start_time": "2021-06-25T21:49:18.944Z"
   },
   {
    "duration": 781,
    "start_time": "2021-06-26T21:48:57.433Z"
   },
   {
    "duration": 32,
    "start_time": "2021-06-26T21:48:58.216Z"
   },
   {
    "duration": 12,
    "start_time": "2021-06-26T21:48:58.251Z"
   },
   {
    "duration": 47,
    "start_time": "2021-06-26T21:48:58.266Z"
   },
   {
    "duration": 13,
    "start_time": "2021-06-26T21:48:58.315Z"
   },
   {
    "duration": 17,
    "start_time": "2021-06-26T21:48:58.331Z"
   },
   {
    "duration": 61,
    "start_time": "2021-06-26T21:48:58.350Z"
   },
   {
    "duration": 12,
    "start_time": "2021-06-26T21:48:58.414Z"
   },
   {
    "duration": 18,
    "start_time": "2021-06-26T21:48:58.429Z"
   },
   {
    "duration": 13,
    "start_time": "2021-06-26T21:48:58.449Z"
   },
   {
    "duration": 50,
    "start_time": "2021-06-26T21:48:58.464Z"
   },
   {
    "duration": 12,
    "start_time": "2021-06-26T21:48:58.516Z"
   },
   {
    "duration": 13,
    "start_time": "2021-06-26T21:48:58.530Z"
   },
   {
    "duration": 19,
    "start_time": "2021-06-26T21:48:58.546Z"
   },
   {
    "duration": 25,
    "start_time": "2021-06-26T21:48:58.601Z"
   },
   {
    "duration": 40,
    "start_time": "2021-06-26T21:48:58.628Z"
   },
   {
    "duration": 930,
    "start_time": "2021-06-26T21:48:58.671Z"
   },
   {
    "duration": 3526,
    "start_time": "2021-06-26T21:48:59.604Z"
   },
   {
    "duration": 32,
    "start_time": "2021-06-26T21:49:03.132Z"
   },
   {
    "duration": 17,
    "start_time": "2021-06-26T21:49:03.166Z"
   },
   {
    "duration": 44,
    "start_time": "2021-06-26T21:49:03.185Z"
   },
   {
    "duration": 4,
    "start_time": "2021-06-26T21:49:03.232Z"
   },
   {
    "duration": 6,
    "start_time": "2021-06-26T21:49:03.241Z"
   },
   {
    "duration": 71,
    "start_time": "2021-06-26T21:49:03.250Z"
   },
   {
    "duration": 9,
    "start_time": "2021-06-26T21:49:03.324Z"
   },
   {
    "duration": 31,
    "start_time": "2021-06-26T21:49:03.336Z"
   },
   {
    "duration": 35,
    "start_time": "2021-06-26T21:49:03.369Z"
   },
   {
    "duration": 27,
    "start_time": "2021-06-26T21:49:03.407Z"
   },
   {
    "duration": 10,
    "start_time": "2021-06-26T21:49:03.436Z"
   },
   {
    "duration": 64,
    "start_time": "2021-06-26T21:49:03.449Z"
   },
   {
    "duration": 10,
    "start_time": "2021-06-26T21:49:03.516Z"
   },
   {
    "duration": 862,
    "start_time": "2021-06-27T16:26:41.349Z"
   },
   {
    "duration": 32,
    "start_time": "2021-06-27T16:26:42.213Z"
   },
   {
    "duration": 19,
    "start_time": "2021-06-27T16:26:42.248Z"
   },
   {
    "duration": 11,
    "start_time": "2021-06-27T16:26:42.269Z"
   },
   {
    "duration": 18,
    "start_time": "2021-06-27T16:26:42.283Z"
   },
   {
    "duration": 60,
    "start_time": "2021-06-27T16:26:42.303Z"
   },
   {
    "duration": 41,
    "start_time": "2021-06-27T16:26:42.365Z"
   },
   {
    "duration": 12,
    "start_time": "2021-06-27T16:26:42.410Z"
   },
   {
    "duration": 35,
    "start_time": "2021-06-27T16:26:42.425Z"
   },
   {
    "duration": 12,
    "start_time": "2021-06-27T16:26:42.462Z"
   },
   {
    "duration": 26,
    "start_time": "2021-06-27T16:26:42.476Z"
   },
   {
    "duration": 13,
    "start_time": "2021-06-27T16:26:42.504Z"
   },
   {
    "duration": 47,
    "start_time": "2021-06-27T16:26:42.519Z"
   },
   {
    "duration": 28,
    "start_time": "2021-06-27T16:26:42.569Z"
   },
   {
    "duration": 23,
    "start_time": "2021-06-27T16:26:42.600Z"
   },
   {
    "duration": 71,
    "start_time": "2021-06-27T16:26:42.625Z"
   },
   {
    "duration": 931,
    "start_time": "2021-06-27T16:26:42.698Z"
   },
   {
    "duration": 4054,
    "start_time": "2021-06-27T16:26:43.632Z"
   },
   {
    "duration": 31,
    "start_time": "2021-06-27T16:26:47.688Z"
   },
   {
    "duration": 34,
    "start_time": "2021-06-27T16:26:47.723Z"
   },
   {
    "duration": 30,
    "start_time": "2021-06-27T16:26:47.760Z"
   },
   {
    "duration": 4,
    "start_time": "2021-06-27T16:26:47.792Z"
   },
   {
    "duration": 7,
    "start_time": "2021-06-27T16:26:47.800Z"
   },
   {
    "duration": 66,
    "start_time": "2021-06-27T16:26:47.809Z"
   },
   {
    "duration": 8,
    "start_time": "2021-06-27T16:26:47.877Z"
   },
   {
    "duration": 34,
    "start_time": "2021-06-27T16:26:47.888Z"
   },
   {
    "duration": 35,
    "start_time": "2021-06-27T16:26:47.924Z"
   },
   {
    "duration": 27,
    "start_time": "2021-06-27T16:26:47.961Z"
   },
   {
    "duration": 8,
    "start_time": "2021-06-27T16:26:47.991Z"
   },
   {
    "duration": 56,
    "start_time": "2021-06-27T16:26:48.001Z"
   },
   {
    "duration": 10,
    "start_time": "2021-06-27T16:26:48.059Z"
   },
   {
    "duration": 916,
    "start_time": "2021-06-28T15:58:12.193Z"
   },
   {
    "duration": 34,
    "start_time": "2021-06-28T15:58:13.112Z"
   },
   {
    "duration": 13,
    "start_time": "2021-06-28T15:58:13.149Z"
   },
   {
    "duration": 45,
    "start_time": "2021-06-28T15:58:13.165Z"
   },
   {
    "duration": 13,
    "start_time": "2021-06-28T15:58:13.212Z"
   },
   {
    "duration": 19,
    "start_time": "2021-06-28T15:58:13.227Z"
   },
   {
    "duration": 24,
    "start_time": "2021-06-28T15:58:13.248Z"
   },
   {
    "duration": 46,
    "start_time": "2021-06-28T15:58:13.274Z"
   },
   {
    "duration": 18,
    "start_time": "2021-06-28T15:58:13.323Z"
   },
   {
    "duration": 14,
    "start_time": "2021-06-28T15:58:13.344Z"
   },
   {
    "duration": 55,
    "start_time": "2021-06-28T15:58:13.360Z"
   },
   {
    "duration": 12,
    "start_time": "2021-06-28T15:58:13.418Z"
   },
   {
    "duration": 22,
    "start_time": "2021-06-28T15:58:13.432Z"
   },
   {
    "duration": 21,
    "start_time": "2021-06-28T15:58:13.456Z"
   },
   {
    "duration": 49,
    "start_time": "2021-06-28T15:58:13.480Z"
   },
   {
    "duration": 43,
    "start_time": "2021-06-28T15:58:13.531Z"
   },
   {
    "duration": 1088,
    "start_time": "2021-06-28T15:58:13.576Z"
   },
   {
    "duration": 3655,
    "start_time": "2021-06-28T15:58:14.667Z"
   },
   {
    "duration": 33,
    "start_time": "2021-06-28T15:58:18.325Z"
   },
   {
    "duration": 13,
    "start_time": "2021-06-28T15:58:18.361Z"
   },
   {
    "duration": 60,
    "start_time": "2021-06-28T15:58:18.376Z"
   },
   {
    "duration": 4,
    "start_time": "2021-06-28T15:58:18.438Z"
   },
   {
    "duration": 8,
    "start_time": "2021-06-28T15:58:18.445Z"
   },
   {
    "duration": 67,
    "start_time": "2021-06-28T15:58:18.455Z"
   },
   {
    "duration": 10,
    "start_time": "2021-06-28T15:58:18.524Z"
   },
   {
    "duration": 28,
    "start_time": "2021-06-28T15:58:18.536Z"
   },
   {
    "duration": 43,
    "start_time": "2021-06-28T15:58:18.569Z"
   },
   {
    "duration": 29,
    "start_time": "2021-06-28T15:58:18.615Z"
   },
   {
    "duration": 10,
    "start_time": "2021-06-28T15:58:18.647Z"
   },
   {
    "duration": 61,
    "start_time": "2021-06-28T15:58:18.660Z"
   },
   {
    "duration": 11,
    "start_time": "2021-06-28T15:58:18.724Z"
   },
   {
    "duration": 876,
    "start_time": "2021-06-28T15:59:17.389Z"
   },
   {
    "duration": 41,
    "start_time": "2021-06-28T15:59:18.268Z"
   },
   {
    "duration": 13,
    "start_time": "2021-06-28T15:59:18.312Z"
   },
   {
    "duration": 15,
    "start_time": "2021-06-28T15:59:18.329Z"
   },
   {
    "duration": 25,
    "start_time": "2021-06-28T15:59:18.346Z"
   },
   {
    "duration": 45,
    "start_time": "2021-06-28T15:59:18.375Z"
   },
   {
    "duration": 28,
    "start_time": "2021-06-28T15:59:18.424Z"
   },
   {
    "duration": 15,
    "start_time": "2021-06-28T15:59:18.458Z"
   },
   {
    "duration": 49,
    "start_time": "2021-06-28T15:59:18.477Z"
   },
   {
    "duration": 14,
    "start_time": "2021-06-28T15:59:18.529Z"
   },
   {
    "duration": 18,
    "start_time": "2021-06-28T15:59:18.545Z"
   },
   {
    "duration": 55,
    "start_time": "2021-06-28T15:59:18.565Z"
   },
   {
    "duration": 18,
    "start_time": "2021-06-28T15:59:18.623Z"
   },
   {
    "duration": 23,
    "start_time": "2021-06-28T15:59:18.644Z"
   },
   {
    "duration": 62,
    "start_time": "2021-06-28T15:59:18.669Z"
   },
   {
    "duration": 45,
    "start_time": "2021-06-28T15:59:18.733Z"
   },
   {
    "duration": 986,
    "start_time": "2021-06-28T15:59:18.781Z"
   },
   {
    "duration": 3696,
    "start_time": "2021-06-28T15:59:19.770Z"
   },
   {
    "duration": 46,
    "start_time": "2021-06-28T15:59:23.468Z"
   },
   {
    "duration": 17,
    "start_time": "2021-06-28T15:59:23.517Z"
   },
   {
    "duration": 31,
    "start_time": "2021-06-28T15:59:23.536Z"
   },
   {
    "duration": 6,
    "start_time": "2021-06-28T15:59:23.570Z"
   },
   {
    "duration": 7,
    "start_time": "2021-06-28T15:59:23.610Z"
   },
   {
    "duration": 38,
    "start_time": "2021-06-28T15:59:23.619Z"
   },
   {
    "duration": 9,
    "start_time": "2021-06-28T15:59:23.659Z"
   },
   {
    "duration": 60,
    "start_time": "2021-06-28T15:59:23.671Z"
   },
   {
    "duration": 11,
    "start_time": "2021-06-28T15:59:23.734Z"
   },
   {
    "duration": 30,
    "start_time": "2021-06-28T15:59:23.747Z"
   },
   {
    "duration": 38,
    "start_time": "2021-06-28T15:59:23.779Z"
   },
   {
    "duration": 29,
    "start_time": "2021-06-28T15:59:23.819Z"
   },
   {
    "duration": 10,
    "start_time": "2021-06-28T15:59:23.851Z"
   },
   {
    "duration": 817,
    "start_time": "2021-06-28T19:56:10.738Z"
   },
   {
    "duration": 51,
    "start_time": "2021-06-28T19:56:11.558Z"
   },
   {
    "duration": 21,
    "start_time": "2021-06-28T19:56:11.617Z"
   },
   {
    "duration": 15,
    "start_time": "2021-06-28T19:56:11.641Z"
   },
   {
    "duration": 43,
    "start_time": "2021-06-28T19:56:11.659Z"
   },
   {
    "duration": 19,
    "start_time": "2021-06-28T19:56:11.705Z"
   },
   {
    "duration": 43,
    "start_time": "2021-06-28T19:56:11.728Z"
   },
   {
    "duration": 26,
    "start_time": "2021-06-28T19:56:11.774Z"
   },
   {
    "duration": 24,
    "start_time": "2021-06-28T19:56:11.802Z"
   },
   {
    "duration": 42,
    "start_time": "2021-06-28T19:56:11.829Z"
   },
   {
    "duration": 28,
    "start_time": "2021-06-28T19:56:11.874Z"
   },
   {
    "duration": 20,
    "start_time": "2021-06-28T19:56:11.905Z"
   },
   {
    "duration": 27,
    "start_time": "2021-06-28T19:56:11.928Z"
   },
   {
    "duration": 24,
    "start_time": "2021-06-28T19:56:11.958Z"
   },
   {
    "duration": 32,
    "start_time": "2021-06-28T19:56:12.001Z"
   },
   {
    "duration": 44,
    "start_time": "2021-06-28T19:56:12.035Z"
   },
   {
    "duration": 934,
    "start_time": "2021-06-28T19:56:12.082Z"
   },
   {
    "duration": 4058,
    "start_time": "2021-06-28T19:56:13.020Z"
   },
   {
    "duration": 44,
    "start_time": "2021-06-28T19:56:17.081Z"
   },
   {
    "duration": 8,
    "start_time": "2021-06-28T19:56:17.128Z"
   },
   {
    "duration": 68,
    "start_time": "2021-06-28T19:56:17.138Z"
   },
   {
    "duration": 4,
    "start_time": "2021-06-28T19:56:17.211Z"
   },
   {
    "duration": 12,
    "start_time": "2021-06-28T19:56:17.218Z"
   },
   {
    "duration": 49,
    "start_time": "2021-06-28T19:56:17.233Z"
   },
   {
    "duration": 10,
    "start_time": "2021-06-28T19:56:17.300Z"
   },
   {
    "duration": 31,
    "start_time": "2021-06-28T19:56:17.313Z"
   },
   {
    "duration": 11,
    "start_time": "2021-06-28T19:56:17.346Z"
   },
   {
    "duration": 66,
    "start_time": "2021-06-28T19:56:17.360Z"
   },
   {
    "duration": 11,
    "start_time": "2021-06-28T19:56:17.429Z"
   },
   {
    "duration": 71,
    "start_time": "2021-06-28T19:56:17.442Z"
   },
   {
    "duration": 9,
    "start_time": "2021-06-28T19:56:17.515Z"
   }
  ],
  "kernelspec": {
   "display_name": "Python 3",
   "language": "python",
   "name": "python3"
  },
  "language_info": {
   "codemirror_mode": {
    "name": "ipython",
    "version": 3
   },
   "file_extension": ".py",
   "mimetype": "text/x-python",
   "name": "python",
   "nbconvert_exporter": "python",
   "pygments_lexer": "ipython3",
   "version": "3.7.8"
  },
  "toc": {
   "base_numbering": 1,
   "nav_menu": {},
   "number_sections": true,
   "sideBar": true,
   "skip_h1_title": false,
   "title_cell": "Table of Contents",
   "title_sidebar": "Contents",
   "toc_cell": false,
   "toc_position": {
    "height": "calc(100% - 180px)",
    "left": "10px",
    "top": "150px",
    "width": "297.2px"
   },
   "toc_section_display": true,
   "toc_window_display": true
  }
 },
 "nbformat": 4,
 "nbformat_minor": 2
}
